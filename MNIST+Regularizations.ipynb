{
  "nbformat": 4,
  "nbformat_minor": 0,
  "metadata": {
    "accelerator": "GPU",
    "colab": {
      "name": "ELL793Assign2Ques1.ipynb",
      "provenance": [],
      "collapsed_sections": []
    },
    "kernelspec": {
      "display_name": "Python 3",
      "name": "python3"
    },
    "widgets": {
      "application/vnd.jupyter.widget-state+json": {
        "fb3b0d1a5ddf4e56b21efce0635bbf9e": {
          "model_module": "@jupyter-widgets/controls",
          "model_name": "HBoxModel",
          "state": {
            "_view_name": "HBoxView",
            "_dom_classes": [],
            "_model_name": "HBoxModel",
            "_view_module": "@jupyter-widgets/controls",
            "_model_module_version": "1.5.0",
            "_view_count": null,
            "_view_module_version": "1.5.0",
            "box_style": "",
            "layout": "IPY_MODEL_c4fc978cdfd24586b4da6ae671ec2395",
            "_model_module": "@jupyter-widgets/controls",
            "children": [
              "IPY_MODEL_b20a446ac81d40309ec82d236f9f3cad",
              "IPY_MODEL_0b9557e201504f3da18ac62bc805a838"
            ]
          }
        },
        "c4fc978cdfd24586b4da6ae671ec2395": {
          "model_module": "@jupyter-widgets/base",
          "model_name": "LayoutModel",
          "state": {
            "_view_name": "LayoutView",
            "grid_template_rows": null,
            "right": null,
            "justify_content": null,
            "_view_module": "@jupyter-widgets/base",
            "overflow": null,
            "_model_module_version": "1.2.0",
            "_view_count": null,
            "flex_flow": null,
            "width": null,
            "min_width": null,
            "border": null,
            "align_items": null,
            "bottom": null,
            "_model_module": "@jupyter-widgets/base",
            "top": null,
            "grid_column": null,
            "overflow_y": null,
            "overflow_x": null,
            "grid_auto_flow": null,
            "grid_area": null,
            "grid_template_columns": null,
            "flex": null,
            "_model_name": "LayoutModel",
            "justify_items": null,
            "grid_row": null,
            "max_height": null,
            "align_content": null,
            "visibility": null,
            "align_self": null,
            "height": null,
            "min_height": null,
            "padding": null,
            "grid_auto_rows": null,
            "grid_gap": null,
            "max_width": null,
            "order": null,
            "_view_module_version": "1.2.0",
            "grid_template_areas": null,
            "object_position": null,
            "object_fit": null,
            "grid_auto_columns": null,
            "margin": null,
            "display": null,
            "left": null
          }
        },
        "b20a446ac81d40309ec82d236f9f3cad": {
          "model_module": "@jupyter-widgets/controls",
          "model_name": "FloatProgressModel",
          "state": {
            "_view_name": "ProgressView",
            "style": "IPY_MODEL_85973d5e4ac34e6db14793bed07128a0",
            "_dom_classes": [],
            "description": "",
            "_model_name": "FloatProgressModel",
            "bar_style": "success",
            "max": 1,
            "_view_module": "@jupyter-widgets/controls",
            "_model_module_version": "1.5.0",
            "value": 1,
            "_view_count": null,
            "_view_module_version": "1.5.0",
            "orientation": "horizontal",
            "min": 0,
            "description_tooltip": null,
            "_model_module": "@jupyter-widgets/controls",
            "layout": "IPY_MODEL_2791ed1f5e234e9a98f0b99b8e8ea64d"
          }
        },
        "0b9557e201504f3da18ac62bc805a838": {
          "model_module": "@jupyter-widgets/controls",
          "model_name": "HTMLModel",
          "state": {
            "_view_name": "HTMLView",
            "style": "IPY_MODEL_eb8c09770bd84f479f75e7d92a72b67d",
            "_dom_classes": [],
            "description": "",
            "_model_name": "HTMLModel",
            "placeholder": "​",
            "_view_module": "@jupyter-widgets/controls",
            "_model_module_version": "1.5.0",
            "value": " 9920512/? [00:01&lt;00:00, 6387597.91it/s]",
            "_view_count": null,
            "_view_module_version": "1.5.0",
            "description_tooltip": null,
            "_model_module": "@jupyter-widgets/controls",
            "layout": "IPY_MODEL_7b7bbda9aefc472ba5cbd965097ee64d"
          }
        },
        "85973d5e4ac34e6db14793bed07128a0": {
          "model_module": "@jupyter-widgets/controls",
          "model_name": "ProgressStyleModel",
          "state": {
            "_view_name": "StyleView",
            "_model_name": "ProgressStyleModel",
            "description_width": "initial",
            "_view_module": "@jupyter-widgets/base",
            "_model_module_version": "1.5.0",
            "_view_count": null,
            "_view_module_version": "1.2.0",
            "bar_color": null,
            "_model_module": "@jupyter-widgets/controls"
          }
        },
        "2791ed1f5e234e9a98f0b99b8e8ea64d": {
          "model_module": "@jupyter-widgets/base",
          "model_name": "LayoutModel",
          "state": {
            "_view_name": "LayoutView",
            "grid_template_rows": null,
            "right": null,
            "justify_content": null,
            "_view_module": "@jupyter-widgets/base",
            "overflow": null,
            "_model_module_version": "1.2.0",
            "_view_count": null,
            "flex_flow": null,
            "width": null,
            "min_width": null,
            "border": null,
            "align_items": null,
            "bottom": null,
            "_model_module": "@jupyter-widgets/base",
            "top": null,
            "grid_column": null,
            "overflow_y": null,
            "overflow_x": null,
            "grid_auto_flow": null,
            "grid_area": null,
            "grid_template_columns": null,
            "flex": null,
            "_model_name": "LayoutModel",
            "justify_items": null,
            "grid_row": null,
            "max_height": null,
            "align_content": null,
            "visibility": null,
            "align_self": null,
            "height": null,
            "min_height": null,
            "padding": null,
            "grid_auto_rows": null,
            "grid_gap": null,
            "max_width": null,
            "order": null,
            "_view_module_version": "1.2.0",
            "grid_template_areas": null,
            "object_position": null,
            "object_fit": null,
            "grid_auto_columns": null,
            "margin": null,
            "display": null,
            "left": null
          }
        },
        "eb8c09770bd84f479f75e7d92a72b67d": {
          "model_module": "@jupyter-widgets/controls",
          "model_name": "DescriptionStyleModel",
          "state": {
            "_view_name": "StyleView",
            "_model_name": "DescriptionStyleModel",
            "description_width": "",
            "_view_module": "@jupyter-widgets/base",
            "_model_module_version": "1.5.0",
            "_view_count": null,
            "_view_module_version": "1.2.0",
            "_model_module": "@jupyter-widgets/controls"
          }
        },
        "7b7bbda9aefc472ba5cbd965097ee64d": {
          "model_module": "@jupyter-widgets/base",
          "model_name": "LayoutModel",
          "state": {
            "_view_name": "LayoutView",
            "grid_template_rows": null,
            "right": null,
            "justify_content": null,
            "_view_module": "@jupyter-widgets/base",
            "overflow": null,
            "_model_module_version": "1.2.0",
            "_view_count": null,
            "flex_flow": null,
            "width": null,
            "min_width": null,
            "border": null,
            "align_items": null,
            "bottom": null,
            "_model_module": "@jupyter-widgets/base",
            "top": null,
            "grid_column": null,
            "overflow_y": null,
            "overflow_x": null,
            "grid_auto_flow": null,
            "grid_area": null,
            "grid_template_columns": null,
            "flex": null,
            "_model_name": "LayoutModel",
            "justify_items": null,
            "grid_row": null,
            "max_height": null,
            "align_content": null,
            "visibility": null,
            "align_self": null,
            "height": null,
            "min_height": null,
            "padding": null,
            "grid_auto_rows": null,
            "grid_gap": null,
            "max_width": null,
            "order": null,
            "_view_module_version": "1.2.0",
            "grid_template_areas": null,
            "object_position": null,
            "object_fit": null,
            "grid_auto_columns": null,
            "margin": null,
            "display": null,
            "left": null
          }
        },
        "106f9014ed27415580f8d2dcdd01d75b": {
          "model_module": "@jupyter-widgets/controls",
          "model_name": "HBoxModel",
          "state": {
            "_view_name": "HBoxView",
            "_dom_classes": [],
            "_model_name": "HBoxModel",
            "_view_module": "@jupyter-widgets/controls",
            "_model_module_version": "1.5.0",
            "_view_count": null,
            "_view_module_version": "1.5.0",
            "box_style": "",
            "layout": "IPY_MODEL_582f1b6dd3c74cfdb13c5fc1e33b3480",
            "_model_module": "@jupyter-widgets/controls",
            "children": [
              "IPY_MODEL_d53b9589458c4556a5a4ab285143520c",
              "IPY_MODEL_111a9840d102448da01833a68f1af8bd"
            ]
          }
        },
        "582f1b6dd3c74cfdb13c5fc1e33b3480": {
          "model_module": "@jupyter-widgets/base",
          "model_name": "LayoutModel",
          "state": {
            "_view_name": "LayoutView",
            "grid_template_rows": null,
            "right": null,
            "justify_content": null,
            "_view_module": "@jupyter-widgets/base",
            "overflow": null,
            "_model_module_version": "1.2.0",
            "_view_count": null,
            "flex_flow": null,
            "width": null,
            "min_width": null,
            "border": null,
            "align_items": null,
            "bottom": null,
            "_model_module": "@jupyter-widgets/base",
            "top": null,
            "grid_column": null,
            "overflow_y": null,
            "overflow_x": null,
            "grid_auto_flow": null,
            "grid_area": null,
            "grid_template_columns": null,
            "flex": null,
            "_model_name": "LayoutModel",
            "justify_items": null,
            "grid_row": null,
            "max_height": null,
            "align_content": null,
            "visibility": null,
            "align_self": null,
            "height": null,
            "min_height": null,
            "padding": null,
            "grid_auto_rows": null,
            "grid_gap": null,
            "max_width": null,
            "order": null,
            "_view_module_version": "1.2.0",
            "grid_template_areas": null,
            "object_position": null,
            "object_fit": null,
            "grid_auto_columns": null,
            "margin": null,
            "display": null,
            "left": null
          }
        },
        "d53b9589458c4556a5a4ab285143520c": {
          "model_module": "@jupyter-widgets/controls",
          "model_name": "FloatProgressModel",
          "state": {
            "_view_name": "ProgressView",
            "style": "IPY_MODEL_652de04b4d314af08bb8861e907aa605",
            "_dom_classes": [],
            "description": "",
            "_model_name": "FloatProgressModel",
            "bar_style": "success",
            "max": 1,
            "_view_module": "@jupyter-widgets/controls",
            "_model_module_version": "1.5.0",
            "value": 1,
            "_view_count": null,
            "_view_module_version": "1.5.0",
            "orientation": "horizontal",
            "min": 0,
            "description_tooltip": null,
            "_model_module": "@jupyter-widgets/controls",
            "layout": "IPY_MODEL_170d6a9bc3d644f58019041f071434cd"
          }
        },
        "111a9840d102448da01833a68f1af8bd": {
          "model_module": "@jupyter-widgets/controls",
          "model_name": "HTMLModel",
          "state": {
            "_view_name": "HTMLView",
            "style": "IPY_MODEL_5abeb9c6831647d3b059b4bf66e65bfe",
            "_dom_classes": [],
            "description": "",
            "_model_name": "HTMLModel",
            "placeholder": "​",
            "_view_module": "@jupyter-widgets/controls",
            "_model_module_version": "1.5.0",
            "value": " 32768/? [00:00&lt;00:00, 203948.34it/s]",
            "_view_count": null,
            "_view_module_version": "1.5.0",
            "description_tooltip": null,
            "_model_module": "@jupyter-widgets/controls",
            "layout": "IPY_MODEL_576c78bfb690498db629f0fc531b01e0"
          }
        },
        "652de04b4d314af08bb8861e907aa605": {
          "model_module": "@jupyter-widgets/controls",
          "model_name": "ProgressStyleModel",
          "state": {
            "_view_name": "StyleView",
            "_model_name": "ProgressStyleModel",
            "description_width": "initial",
            "_view_module": "@jupyter-widgets/base",
            "_model_module_version": "1.5.0",
            "_view_count": null,
            "_view_module_version": "1.2.0",
            "bar_color": null,
            "_model_module": "@jupyter-widgets/controls"
          }
        },
        "170d6a9bc3d644f58019041f071434cd": {
          "model_module": "@jupyter-widgets/base",
          "model_name": "LayoutModel",
          "state": {
            "_view_name": "LayoutView",
            "grid_template_rows": null,
            "right": null,
            "justify_content": null,
            "_view_module": "@jupyter-widgets/base",
            "overflow": null,
            "_model_module_version": "1.2.0",
            "_view_count": null,
            "flex_flow": null,
            "width": null,
            "min_width": null,
            "border": null,
            "align_items": null,
            "bottom": null,
            "_model_module": "@jupyter-widgets/base",
            "top": null,
            "grid_column": null,
            "overflow_y": null,
            "overflow_x": null,
            "grid_auto_flow": null,
            "grid_area": null,
            "grid_template_columns": null,
            "flex": null,
            "_model_name": "LayoutModel",
            "justify_items": null,
            "grid_row": null,
            "max_height": null,
            "align_content": null,
            "visibility": null,
            "align_self": null,
            "height": null,
            "min_height": null,
            "padding": null,
            "grid_auto_rows": null,
            "grid_gap": null,
            "max_width": null,
            "order": null,
            "_view_module_version": "1.2.0",
            "grid_template_areas": null,
            "object_position": null,
            "object_fit": null,
            "grid_auto_columns": null,
            "margin": null,
            "display": null,
            "left": null
          }
        },
        "5abeb9c6831647d3b059b4bf66e65bfe": {
          "model_module": "@jupyter-widgets/controls",
          "model_name": "DescriptionStyleModel",
          "state": {
            "_view_name": "StyleView",
            "_model_name": "DescriptionStyleModel",
            "description_width": "",
            "_view_module": "@jupyter-widgets/base",
            "_model_module_version": "1.5.0",
            "_view_count": null,
            "_view_module_version": "1.2.0",
            "_model_module": "@jupyter-widgets/controls"
          }
        },
        "576c78bfb690498db629f0fc531b01e0": {
          "model_module": "@jupyter-widgets/base",
          "model_name": "LayoutModel",
          "state": {
            "_view_name": "LayoutView",
            "grid_template_rows": null,
            "right": null,
            "justify_content": null,
            "_view_module": "@jupyter-widgets/base",
            "overflow": null,
            "_model_module_version": "1.2.0",
            "_view_count": null,
            "flex_flow": null,
            "width": null,
            "min_width": null,
            "border": null,
            "align_items": null,
            "bottom": null,
            "_model_module": "@jupyter-widgets/base",
            "top": null,
            "grid_column": null,
            "overflow_y": null,
            "overflow_x": null,
            "grid_auto_flow": null,
            "grid_area": null,
            "grid_template_columns": null,
            "flex": null,
            "_model_name": "LayoutModel",
            "justify_items": null,
            "grid_row": null,
            "max_height": null,
            "align_content": null,
            "visibility": null,
            "align_self": null,
            "height": null,
            "min_height": null,
            "padding": null,
            "grid_auto_rows": null,
            "grid_gap": null,
            "max_width": null,
            "order": null,
            "_view_module_version": "1.2.0",
            "grid_template_areas": null,
            "object_position": null,
            "object_fit": null,
            "grid_auto_columns": null,
            "margin": null,
            "display": null,
            "left": null
          }
        },
        "6640413cd770453ca1685fe710086665": {
          "model_module": "@jupyter-widgets/controls",
          "model_name": "HBoxModel",
          "state": {
            "_view_name": "HBoxView",
            "_dom_classes": [],
            "_model_name": "HBoxModel",
            "_view_module": "@jupyter-widgets/controls",
            "_model_module_version": "1.5.0",
            "_view_count": null,
            "_view_module_version": "1.5.0",
            "box_style": "",
            "layout": "IPY_MODEL_2a98a09b9d4f4e8abea889dc04a40ca2",
            "_model_module": "@jupyter-widgets/controls",
            "children": [
              "IPY_MODEL_9f812d6eb19e4b1d862b6bdcc9ab490d",
              "IPY_MODEL_68c20c3ba77b4888936057e300e4ac1a"
            ]
          }
        },
        "2a98a09b9d4f4e8abea889dc04a40ca2": {
          "model_module": "@jupyter-widgets/base",
          "model_name": "LayoutModel",
          "state": {
            "_view_name": "LayoutView",
            "grid_template_rows": null,
            "right": null,
            "justify_content": null,
            "_view_module": "@jupyter-widgets/base",
            "overflow": null,
            "_model_module_version": "1.2.0",
            "_view_count": null,
            "flex_flow": null,
            "width": null,
            "min_width": null,
            "border": null,
            "align_items": null,
            "bottom": null,
            "_model_module": "@jupyter-widgets/base",
            "top": null,
            "grid_column": null,
            "overflow_y": null,
            "overflow_x": null,
            "grid_auto_flow": null,
            "grid_area": null,
            "grid_template_columns": null,
            "flex": null,
            "_model_name": "LayoutModel",
            "justify_items": null,
            "grid_row": null,
            "max_height": null,
            "align_content": null,
            "visibility": null,
            "align_self": null,
            "height": null,
            "min_height": null,
            "padding": null,
            "grid_auto_rows": null,
            "grid_gap": null,
            "max_width": null,
            "order": null,
            "_view_module_version": "1.2.0",
            "grid_template_areas": null,
            "object_position": null,
            "object_fit": null,
            "grid_auto_columns": null,
            "margin": null,
            "display": null,
            "left": null
          }
        },
        "9f812d6eb19e4b1d862b6bdcc9ab490d": {
          "model_module": "@jupyter-widgets/controls",
          "model_name": "FloatProgressModel",
          "state": {
            "_view_name": "ProgressView",
            "style": "IPY_MODEL_8773afeb7f25438794b862b626c6fcda",
            "_dom_classes": [],
            "description": "",
            "_model_name": "FloatProgressModel",
            "bar_style": "success",
            "max": 1,
            "_view_module": "@jupyter-widgets/controls",
            "_model_module_version": "1.5.0",
            "value": 1,
            "_view_count": null,
            "_view_module_version": "1.5.0",
            "orientation": "horizontal",
            "min": 0,
            "description_tooltip": null,
            "_model_module": "@jupyter-widgets/controls",
            "layout": "IPY_MODEL_dfcde366178147cf8d926b7212c78d67"
          }
        },
        "68c20c3ba77b4888936057e300e4ac1a": {
          "model_module": "@jupyter-widgets/controls",
          "model_name": "HTMLModel",
          "state": {
            "_view_name": "HTMLView",
            "style": "IPY_MODEL_e81b9f7b7c7f4c77842eb6823c45acc9",
            "_dom_classes": [],
            "description": "",
            "_model_name": "HTMLModel",
            "placeholder": "​",
            "_view_module": "@jupyter-widgets/controls",
            "_model_module_version": "1.5.0",
            "value": " 1654784/? [00:00&lt;00:00, 2280182.96it/s]",
            "_view_count": null,
            "_view_module_version": "1.5.0",
            "description_tooltip": null,
            "_model_module": "@jupyter-widgets/controls",
            "layout": "IPY_MODEL_c913d623d5a0431ea7aed66762f2708e"
          }
        },
        "8773afeb7f25438794b862b626c6fcda": {
          "model_module": "@jupyter-widgets/controls",
          "model_name": "ProgressStyleModel",
          "state": {
            "_view_name": "StyleView",
            "_model_name": "ProgressStyleModel",
            "description_width": "initial",
            "_view_module": "@jupyter-widgets/base",
            "_model_module_version": "1.5.0",
            "_view_count": null,
            "_view_module_version": "1.2.0",
            "bar_color": null,
            "_model_module": "@jupyter-widgets/controls"
          }
        },
        "dfcde366178147cf8d926b7212c78d67": {
          "model_module": "@jupyter-widgets/base",
          "model_name": "LayoutModel",
          "state": {
            "_view_name": "LayoutView",
            "grid_template_rows": null,
            "right": null,
            "justify_content": null,
            "_view_module": "@jupyter-widgets/base",
            "overflow": null,
            "_model_module_version": "1.2.0",
            "_view_count": null,
            "flex_flow": null,
            "width": null,
            "min_width": null,
            "border": null,
            "align_items": null,
            "bottom": null,
            "_model_module": "@jupyter-widgets/base",
            "top": null,
            "grid_column": null,
            "overflow_y": null,
            "overflow_x": null,
            "grid_auto_flow": null,
            "grid_area": null,
            "grid_template_columns": null,
            "flex": null,
            "_model_name": "LayoutModel",
            "justify_items": null,
            "grid_row": null,
            "max_height": null,
            "align_content": null,
            "visibility": null,
            "align_self": null,
            "height": null,
            "min_height": null,
            "padding": null,
            "grid_auto_rows": null,
            "grid_gap": null,
            "max_width": null,
            "order": null,
            "_view_module_version": "1.2.0",
            "grid_template_areas": null,
            "object_position": null,
            "object_fit": null,
            "grid_auto_columns": null,
            "margin": null,
            "display": null,
            "left": null
          }
        },
        "e81b9f7b7c7f4c77842eb6823c45acc9": {
          "model_module": "@jupyter-widgets/controls",
          "model_name": "DescriptionStyleModel",
          "state": {
            "_view_name": "StyleView",
            "_model_name": "DescriptionStyleModel",
            "description_width": "",
            "_view_module": "@jupyter-widgets/base",
            "_model_module_version": "1.5.0",
            "_view_count": null,
            "_view_module_version": "1.2.0",
            "_model_module": "@jupyter-widgets/controls"
          }
        },
        "c913d623d5a0431ea7aed66762f2708e": {
          "model_module": "@jupyter-widgets/base",
          "model_name": "LayoutModel",
          "state": {
            "_view_name": "LayoutView",
            "grid_template_rows": null,
            "right": null,
            "justify_content": null,
            "_view_module": "@jupyter-widgets/base",
            "overflow": null,
            "_model_module_version": "1.2.0",
            "_view_count": null,
            "flex_flow": null,
            "width": null,
            "min_width": null,
            "border": null,
            "align_items": null,
            "bottom": null,
            "_model_module": "@jupyter-widgets/base",
            "top": null,
            "grid_column": null,
            "overflow_y": null,
            "overflow_x": null,
            "grid_auto_flow": null,
            "grid_area": null,
            "grid_template_columns": null,
            "flex": null,
            "_model_name": "LayoutModel",
            "justify_items": null,
            "grid_row": null,
            "max_height": null,
            "align_content": null,
            "visibility": null,
            "align_self": null,
            "height": null,
            "min_height": null,
            "padding": null,
            "grid_auto_rows": null,
            "grid_gap": null,
            "max_width": null,
            "order": null,
            "_view_module_version": "1.2.0",
            "grid_template_areas": null,
            "object_position": null,
            "object_fit": null,
            "grid_auto_columns": null,
            "margin": null,
            "display": null,
            "left": null
          }
        },
        "703449332f484478923a80b6f4f1b2b5": {
          "model_module": "@jupyter-widgets/controls",
          "model_name": "HBoxModel",
          "state": {
            "_view_name": "HBoxView",
            "_dom_classes": [],
            "_model_name": "HBoxModel",
            "_view_module": "@jupyter-widgets/controls",
            "_model_module_version": "1.5.0",
            "_view_count": null,
            "_view_module_version": "1.5.0",
            "box_style": "",
            "layout": "IPY_MODEL_58b9ee3f5b6b4bb8b03e3b80c4063925",
            "_model_module": "@jupyter-widgets/controls",
            "children": [
              "IPY_MODEL_b7f8eac53cdf4db8b37aca37b1f85f98",
              "IPY_MODEL_b753e4f9959348659f3e5cd9fa1aefb2"
            ]
          }
        },
        "58b9ee3f5b6b4bb8b03e3b80c4063925": {
          "model_module": "@jupyter-widgets/base",
          "model_name": "LayoutModel",
          "state": {
            "_view_name": "LayoutView",
            "grid_template_rows": null,
            "right": null,
            "justify_content": null,
            "_view_module": "@jupyter-widgets/base",
            "overflow": null,
            "_model_module_version": "1.2.0",
            "_view_count": null,
            "flex_flow": null,
            "width": null,
            "min_width": null,
            "border": null,
            "align_items": null,
            "bottom": null,
            "_model_module": "@jupyter-widgets/base",
            "top": null,
            "grid_column": null,
            "overflow_y": null,
            "overflow_x": null,
            "grid_auto_flow": null,
            "grid_area": null,
            "grid_template_columns": null,
            "flex": null,
            "_model_name": "LayoutModel",
            "justify_items": null,
            "grid_row": null,
            "max_height": null,
            "align_content": null,
            "visibility": null,
            "align_self": null,
            "height": null,
            "min_height": null,
            "padding": null,
            "grid_auto_rows": null,
            "grid_gap": null,
            "max_width": null,
            "order": null,
            "_view_module_version": "1.2.0",
            "grid_template_areas": null,
            "object_position": null,
            "object_fit": null,
            "grid_auto_columns": null,
            "margin": null,
            "display": null,
            "left": null
          }
        },
        "b7f8eac53cdf4db8b37aca37b1f85f98": {
          "model_module": "@jupyter-widgets/controls",
          "model_name": "FloatProgressModel",
          "state": {
            "_view_name": "ProgressView",
            "style": "IPY_MODEL_5b500b3405ec408c9a13ad222bab65e2",
            "_dom_classes": [],
            "description": "",
            "_model_name": "FloatProgressModel",
            "bar_style": "success",
            "max": 1,
            "_view_module": "@jupyter-widgets/controls",
            "_model_module_version": "1.5.0",
            "value": 1,
            "_view_count": null,
            "_view_module_version": "1.5.0",
            "orientation": "horizontal",
            "min": 0,
            "description_tooltip": null,
            "_model_module": "@jupyter-widgets/controls",
            "layout": "IPY_MODEL_39904010e09645a7af0d526208f153cc"
          }
        },
        "b753e4f9959348659f3e5cd9fa1aefb2": {
          "model_module": "@jupyter-widgets/controls",
          "model_name": "HTMLModel",
          "state": {
            "_view_name": "HTMLView",
            "style": "IPY_MODEL_16a8fcbc164f437a8d0e5959ff593156",
            "_dom_classes": [],
            "description": "",
            "_model_name": "HTMLModel",
            "placeholder": "​",
            "_view_module": "@jupyter-widgets/controls",
            "_model_module_version": "1.5.0",
            "value": " 8192/? [00:00&lt;00:00, 27233.17it/s]",
            "_view_count": null,
            "_view_module_version": "1.5.0",
            "description_tooltip": null,
            "_model_module": "@jupyter-widgets/controls",
            "layout": "IPY_MODEL_dd5b6dba3dd94795a2dc84b7fa3ed7a1"
          }
        },
        "5b500b3405ec408c9a13ad222bab65e2": {
          "model_module": "@jupyter-widgets/controls",
          "model_name": "ProgressStyleModel",
          "state": {
            "_view_name": "StyleView",
            "_model_name": "ProgressStyleModel",
            "description_width": "initial",
            "_view_module": "@jupyter-widgets/base",
            "_model_module_version": "1.5.0",
            "_view_count": null,
            "_view_module_version": "1.2.0",
            "bar_color": null,
            "_model_module": "@jupyter-widgets/controls"
          }
        },
        "39904010e09645a7af0d526208f153cc": {
          "model_module": "@jupyter-widgets/base",
          "model_name": "LayoutModel",
          "state": {
            "_view_name": "LayoutView",
            "grid_template_rows": null,
            "right": null,
            "justify_content": null,
            "_view_module": "@jupyter-widgets/base",
            "overflow": null,
            "_model_module_version": "1.2.0",
            "_view_count": null,
            "flex_flow": null,
            "width": null,
            "min_width": null,
            "border": null,
            "align_items": null,
            "bottom": null,
            "_model_module": "@jupyter-widgets/base",
            "top": null,
            "grid_column": null,
            "overflow_y": null,
            "overflow_x": null,
            "grid_auto_flow": null,
            "grid_area": null,
            "grid_template_columns": null,
            "flex": null,
            "_model_name": "LayoutModel",
            "justify_items": null,
            "grid_row": null,
            "max_height": null,
            "align_content": null,
            "visibility": null,
            "align_self": null,
            "height": null,
            "min_height": null,
            "padding": null,
            "grid_auto_rows": null,
            "grid_gap": null,
            "max_width": null,
            "order": null,
            "_view_module_version": "1.2.0",
            "grid_template_areas": null,
            "object_position": null,
            "object_fit": null,
            "grid_auto_columns": null,
            "margin": null,
            "display": null,
            "left": null
          }
        },
        "16a8fcbc164f437a8d0e5959ff593156": {
          "model_module": "@jupyter-widgets/controls",
          "model_name": "DescriptionStyleModel",
          "state": {
            "_view_name": "StyleView",
            "_model_name": "DescriptionStyleModel",
            "description_width": "",
            "_view_module": "@jupyter-widgets/base",
            "_model_module_version": "1.5.0",
            "_view_count": null,
            "_view_module_version": "1.2.0",
            "_model_module": "@jupyter-widgets/controls"
          }
        },
        "dd5b6dba3dd94795a2dc84b7fa3ed7a1": {
          "model_module": "@jupyter-widgets/base",
          "model_name": "LayoutModel",
          "state": {
            "_view_name": "LayoutView",
            "grid_template_rows": null,
            "right": null,
            "justify_content": null,
            "_view_module": "@jupyter-widgets/base",
            "overflow": null,
            "_model_module_version": "1.2.0",
            "_view_count": null,
            "flex_flow": null,
            "width": null,
            "min_width": null,
            "border": null,
            "align_items": null,
            "bottom": null,
            "_model_module": "@jupyter-widgets/base",
            "top": null,
            "grid_column": null,
            "overflow_y": null,
            "overflow_x": null,
            "grid_auto_flow": null,
            "grid_area": null,
            "grid_template_columns": null,
            "flex": null,
            "_model_name": "LayoutModel",
            "justify_items": null,
            "grid_row": null,
            "max_height": null,
            "align_content": null,
            "visibility": null,
            "align_self": null,
            "height": null,
            "min_height": null,
            "padding": null,
            "grid_auto_rows": null,
            "grid_gap": null,
            "max_width": null,
            "order": null,
            "_view_module_version": "1.2.0",
            "grid_template_areas": null,
            "object_position": null,
            "object_fit": null,
            "grid_auto_columns": null,
            "margin": null,
            "display": null,
            "left": null
          }
        }
      }
    }
  },
  "cells": [
    {
      "cell_type": "markdown",
      "metadata": {
        "id": "_hnJAdvEQNdJ"
      },
      "source": [
        "#ELL793 Assignment 2\n",
        "**Problem 1: MNIST Classification & Regularisation**<br>\n",
        "Abhinava Sikdar 2017MT10724 <br>\n",
        "Yashank Singh 2017MT10756"
      ]
    },
    {
      "cell_type": "markdown",
      "metadata": {
        "id": "isjY3sYpRG3u"
      },
      "source": [
        "Importing libraries and checking for CUDA"
      ]
    },
    {
      "cell_type": "code",
      "metadata": {
        "colab": {
          "base_uri": "https://localhost:8080/"
        },
        "id": "VLs6RVEC7ZPH",
        "outputId": "2b887d81-e108-4df7-c7e9-b7a8b181ea18"
      },
      "source": [
        "import torch\n",
        "from torchvision import datasets\n",
        "from torchvision import transforms\n",
        "import matplotlib.pyplot as plt\n",
        "from google.colab import files\n",
        "import numpy as np\n",
        "print('Is CUDA available', torch.cuda.is_available())\n",
        "print('Torch', torch.__version__, 'CUDA', torch.version.cuda)\n",
        "print('Device:', torch.device('cuda:0'))"
      ],
      "execution_count": 1,
      "outputs": [
        {
          "output_type": "stream",
          "text": [
            "Is CUDA available True\n",
            "Torch 1.7.0+cu101 CUDA 10.1\n",
            "Device: cuda:0\n"
          ],
          "name": "stdout"
        }
      ]
    },
    {
      "cell_type": "markdown",
      "metadata": {
        "id": "I2JMwS8pRUB5"
      },
      "source": [
        "##Handling Data"
      ]
    },
    {
      "cell_type": "code",
      "metadata": {
        "id": "O1h_UL8yCUGP",
        "colab": {
          "base_uri": "https://localhost:8080/",
          "height": 386,
          "referenced_widgets": [
            "fb3b0d1a5ddf4e56b21efce0635bbf9e",
            "c4fc978cdfd24586b4da6ae671ec2395",
            "b20a446ac81d40309ec82d236f9f3cad",
            "0b9557e201504f3da18ac62bc805a838",
            "85973d5e4ac34e6db14793bed07128a0",
            "2791ed1f5e234e9a98f0b99b8e8ea64d",
            "eb8c09770bd84f479f75e7d92a72b67d",
            "7b7bbda9aefc472ba5cbd965097ee64d",
            "106f9014ed27415580f8d2dcdd01d75b",
            "582f1b6dd3c74cfdb13c5fc1e33b3480",
            "d53b9589458c4556a5a4ab285143520c",
            "111a9840d102448da01833a68f1af8bd",
            "652de04b4d314af08bb8861e907aa605",
            "170d6a9bc3d644f58019041f071434cd",
            "5abeb9c6831647d3b059b4bf66e65bfe",
            "576c78bfb690498db629f0fc531b01e0",
            "6640413cd770453ca1685fe710086665",
            "2a98a09b9d4f4e8abea889dc04a40ca2",
            "9f812d6eb19e4b1d862b6bdcc9ab490d",
            "68c20c3ba77b4888936057e300e4ac1a",
            "8773afeb7f25438794b862b626c6fcda",
            "dfcde366178147cf8d926b7212c78d67",
            "e81b9f7b7c7f4c77842eb6823c45acc9",
            "c913d623d5a0431ea7aed66762f2708e",
            "703449332f484478923a80b6f4f1b2b5",
            "58b9ee3f5b6b4bb8b03e3b80c4063925",
            "b7f8eac53cdf4db8b37aca37b1f85f98",
            "b753e4f9959348659f3e5cd9fa1aefb2",
            "5b500b3405ec408c9a13ad222bab65e2",
            "39904010e09645a7af0d526208f153cc",
            "16a8fcbc164f437a8d0e5959ff593156",
            "dd5b6dba3dd94795a2dc84b7fa3ed7a1"
          ]
        },
        "outputId": "47357b1c-a61a-40dc-80c8-9c8131b98628"
      },
      "source": [
        "data_path='../data/'\n",
        "mnist=datasets.MNIST(data_path, train= True, download=True, transform=transforms.ToTensor())\n",
        "mnist_val=datasets.MNIST(data_path, train=False, download= True, transform=transforms.ToTensor())"
      ],
      "execution_count": 2,
      "outputs": [
        {
          "output_type": "stream",
          "text": [
            "Downloading http://yann.lecun.com/exdb/mnist/train-images-idx3-ubyte.gz to ../data/MNIST/raw/train-images-idx3-ubyte.gz\n"
          ],
          "name": "stdout"
        },
        {
          "output_type": "display_data",
          "data": {
            "application/vnd.jupyter.widget-view+json": {
              "model_id": "fb3b0d1a5ddf4e56b21efce0635bbf9e",
              "version_minor": 0,
              "version_major": 2
            },
            "text/plain": [
              "HBox(children=(FloatProgress(value=1.0, bar_style='info', max=1.0), HTML(value='')))"
            ]
          },
          "metadata": {
            "tags": []
          }
        },
        {
          "output_type": "stream",
          "text": [
            "Extracting ../data/MNIST/raw/train-images-idx3-ubyte.gz to ../data/MNIST/raw\n",
            "Downloading http://yann.lecun.com/exdb/mnist/train-labels-idx1-ubyte.gz to ../data/MNIST/raw/train-labels-idx1-ubyte.gz\n"
          ],
          "name": "stdout"
        },
        {
          "output_type": "display_data",
          "data": {
            "application/vnd.jupyter.widget-view+json": {
              "model_id": "106f9014ed27415580f8d2dcdd01d75b",
              "version_minor": 0,
              "version_major": 2
            },
            "text/plain": [
              "HBox(children=(FloatProgress(value=1.0, bar_style='info', max=1.0), HTML(value='')))"
            ]
          },
          "metadata": {
            "tags": []
          }
        },
        {
          "output_type": "stream",
          "text": [
            "Extracting ../data/MNIST/raw/train-labels-idx1-ubyte.gz to ../data/MNIST/raw\n",
            "Downloading http://yann.lecun.com/exdb/mnist/t10k-images-idx3-ubyte.gz to ../data/MNIST/raw/t10k-images-idx3-ubyte.gz\n",
            "\n"
          ],
          "name": "stdout"
        },
        {
          "output_type": "display_data",
          "data": {
            "application/vnd.jupyter.widget-view+json": {
              "model_id": "6640413cd770453ca1685fe710086665",
              "version_minor": 0,
              "version_major": 2
            },
            "text/plain": [
              "HBox(children=(FloatProgress(value=1.0, bar_style='info', max=1.0), HTML(value='')))"
            ]
          },
          "metadata": {
            "tags": []
          }
        },
        {
          "output_type": "stream",
          "text": [
            "Extracting ../data/MNIST/raw/t10k-images-idx3-ubyte.gz to ../data/MNIST/raw\n",
            "Downloading http://yann.lecun.com/exdb/mnist/t10k-labels-idx1-ubyte.gz to ../data/MNIST/raw/t10k-labels-idx1-ubyte.gz\n"
          ],
          "name": "stdout"
        },
        {
          "output_type": "display_data",
          "data": {
            "application/vnd.jupyter.widget-view+json": {
              "model_id": "703449332f484478923a80b6f4f1b2b5",
              "version_minor": 0,
              "version_major": 2
            },
            "text/plain": [
              "HBox(children=(FloatProgress(value=1.0, bar_style='info', max=1.0), HTML(value='')))"
            ]
          },
          "metadata": {
            "tags": []
          }
        },
        {
          "output_type": "stream",
          "text": [
            "Extracting ../data/MNIST/raw/t10k-labels-idx1-ubyte.gz to ../data/MNIST/raw\n",
            "Processing...\n",
            "Done!\n"
          ],
          "name": "stdout"
        },
        {
          "output_type": "stream",
          "text": [
            "/usr/local/lib/python3.6/dist-packages/torchvision/datasets/mnist.py:480: UserWarning: The given NumPy array is not writeable, and PyTorch does not support non-writeable tensors. This means you can write to the underlying (supposedly non-writeable) NumPy array using the tensor. You may want to copy the array to protect its data or make it writeable before converting it to a tensor. This type of warning will be suppressed for the rest of this program. (Triggered internally at  /pytorch/torch/csrc/utils/tensor_numpy.cpp:141.)\n",
            "  return torch.from_numpy(parsed.astype(m[2], copy=False)).view(*s)\n"
          ],
          "name": "stderr"
        }
      ]
    },
    {
      "cell_type": "code",
      "metadata": {
        "colab": {
          "base_uri": "https://localhost:8080/",
          "height": 316
        },
        "id": "Rty-VGPKDi3O",
        "outputId": "06e0c6e6-79bc-49c4-f1fe-e27d001d80ba"
      },
      "source": [
        "img, label = mnist[27]\n",
        "plt.imshow(img.permute(1, 2, 0).squeeze())\n",
        "plt.show()"
      ],
      "execution_count": 3,
      "outputs": [
        {
          "output_type": "stream",
          "text": [
            "\n"
          ],
          "name": "stdout"
        },
        {
          "output_type": "display_data",
          "data": {
            "image/png": "[encoded data removed]",
            "text/plain": [
              "<Figure size 432x288 with 1 Axes>"
            ]
          },
          "metadata": {
            "tags": [],
            "needs_background": "light"
          }
        },
        {
          "output_type": "stream",
          "text": [
            "\n",
            "\n"
          ],
          "name": "stdout"
        }
      ]
    },
    {
      "cell_type": "code",
      "metadata": {
        "colab": {
          "base_uri": "https://localhost:8080/"
        },
        "id": "3eRjd_qJK6mD",
        "outputId": "29c60a29-cb41-4e33-b497-7a6f3b1e66e3"
      },
      "source": [
        "mnist_stack = torch.stack([img for img, _ in mnist], dim=3)\n",
        "print('Shape of the MNIST stack is',mnist_stack.shape)\n",
        "mean= mnist_stack.view(1,-1).mean(dim=1)\n",
        "std= mnist_stack.view(1,-1).std(dim=1)\n",
        "print('Mean of training data is', mean)\n",
        "print('Standard deviation of training data is', std)"
      ],
      "execution_count": 4,
      "outputs": [
        {
          "output_type": "stream",
          "text": [
            "Shape of the MNIST stack is torch.Size([1, 28, 28, 60000])\n",
            "Mean of training data is tensor([0.1307])\n",
            "Standard deviation of training data is tensor([0.3081])\n"
          ],
          "name": "stdout"
        }
      ]
    },
    {
      "cell_type": "code",
      "metadata": {
        "id": "ZLU2iBToNcvu"
      },
      "source": [
        "mnist_transformed = datasets.MNIST(data_path,train=True,download=False, transform=transforms.Compose([\n",
        "                                                                                                      transforms.ToTensor(),transforms.Normalize(mean,std)\n",
        "]))\n",
        "mnist_val_transformed = datasets.MNIST(data_path,train=False,download=False, transform=transforms.Compose([\n",
        "                                                                                                      transforms.ToTensor(),transforms.Normalize(mean,std)\n",
        "]))"
      ],
      "execution_count": 5,
      "outputs": []
    },
    {
      "cell_type": "markdown",
      "metadata": {
        "id": "iJch-aaRRdFs"
      },
      "source": [
        "## Fully Connected Models"
      ]
    },
    {
      "cell_type": "markdown",
      "metadata": {
        "id": "rE_KG2oxRj65"
      },
      "source": [
        "Hyperparameters & Dimensions:"
      ]
    },
    {
      "cell_type": "code",
      "metadata": {
        "id": "xNyE_vnp9UIz"
      },
      "source": [
        "input_dim=784\n",
        "output_dim=10\n",
        "batch_size=512\n",
        "val_batch_size=10000\n",
        "num_epochs=250\n",
        "learning_rate=5*1e-5\n",
        "\n",
        "dev=torch.device(\"cuda:0\" if torch.cuda.is_available() else \"cpu\")"
      ],
      "execution_count": 6,
      "outputs": []
    },
    {
      "cell_type": "markdown",
      "metadata": {
        "id": "QmrjPrSxRwep"
      },
      "source": [
        "Initializing DataLoaders:"
      ]
    },
    {
      "cell_type": "code",
      "metadata": {
        "id": "4sTuxU4aYnlv"
      },
      "source": [
        "train_loader=torch.utils.data.DataLoader(mnist_transformed,batch_size=batch_size,shuffle=True)\n",
        "train_acc_loader=torch.utils.data.DataLoader(mnist_transformed,batch_size=60000,shuffle=False)\n",
        "val_loader = torch.utils.data.DataLoader(mnist_val_transformed, batch_size=val_batch_size, shuffle=False)"
      ],
      "execution_count": 7,
      "outputs": []
    },
    {
      "cell_type": "markdown",
      "metadata": {
        "id": "P1nswibzRrAT"
      },
      "source": [
        "###Unregularised Model:"
      ]
    },
    {
      "cell_type": "code",
      "metadata": {
        "id": "IUeODq0m9nXd"
      },
      "source": [
        "model= torch.nn.Sequential(\n",
        "    torch.nn.Linear(input_dim,500),\n",
        "    torch.nn.ReLU(),\n",
        "    torch.nn.Linear(500,500),\n",
        "    torch.nn.ReLU(),\n",
        "    torch.nn.Linear(500,output_dim),\n",
        "    torch.nn.Softmax(dim=1)\n",
        ")\n",
        "\n",
        "model=model.to(dev)\n",
        "\n",
        "loss_func= torch.nn.CrossEntropyLoss()\n",
        "optimizer = torch.optim.Adam(model.parameters(), lr=learning_rate)"
      ],
      "execution_count": 8,
      "outputs": []
    },
    {
      "cell_type": "markdown",
      "metadata": {
        "id": "Il4nxZGFR28j"
      },
      "source": [
        "Training Loop w/o Regularisation:"
      ]
    },
    {
      "cell_type": "code",
      "metadata": {
        "id": "gX9MdrH9s-JF"
      },
      "source": [
        "val_acc=[]\n",
        "train_acc=[]\n",
        "epochs=[]"
      ],
      "execution_count": 9,
      "outputs": []
    },
    {
      "cell_type": "code",
      "metadata": {
        "colab": {
          "base_uri": "https://localhost:8080/"
        },
        "id": "HuSZqg97_LgT",
        "outputId": "2e701883-ce44-4be7-d8f7-bd5d04a68cbf"
      },
      "source": [
        "for i in range(num_epochs):\n",
        "\n",
        "  for imgs, labels in train_loader:\n",
        "    if dev is not None:\n",
        "      imgs,labels=imgs.to(dev),labels.to(dev)\n",
        "    out= model(imgs.view(imgs.shape[0],-1))\n",
        "    loss=loss_func(out,labels)\n",
        "    optimizer.zero_grad()\n",
        "    loss.backward()\n",
        "    optimizer.step()\n",
        "  \n",
        "  correct_val = 0\n",
        "  total_val = 0\n",
        "  correct_train_acc=0\n",
        "  total_train_acc=0\n",
        "\n",
        "  with torch.no_grad():\n",
        "    for imgs, labels in val_loader:\n",
        "      if dev is not None:\n",
        "        imgs,labels=imgs.to(dev),labels.to(dev)\n",
        "      outputs = model(imgs.view(val_batch_size, -1)) \n",
        "      _, predicted = torch.max(outputs, dim=1) \n",
        "      total_val += labels.shape[0]\n",
        "      correct_val += int((predicted == labels).sum())\n",
        "    val_acc.append(correct_val/total_val)\n",
        "\n",
        "    for train_acc_imgs,train_acc_labels in train_acc_loader:\n",
        "      if dev is not None:\n",
        "        train_acc_imgs,train_acc_labels=train_acc_imgs.to(dev),train_acc_labels.to(dev)\n",
        "      train_acc_out=model(train_acc_imgs.view(train_acc_imgs.shape[0],-1))\n",
        "      _, train_acc_predicted = torch.max(train_acc_out, dim=1)\n",
        "      total_train_acc += train_acc_labels.shape[0]\n",
        "      correct_train_acc += int((train_acc_predicted == train_acc_labels).sum())\n",
        "    train_acc.append(correct_train_acc/total_train_acc)\n",
        "  epochs.append(i)\n",
        "\n",
        "  if i%5==0:\n",
        "    print(\"Epoch: %d, Loss: %f\" % (i, float(loss)))\n",
        "    print(\"Train Accuracy: \", correct_train_acc / total_train_acc)\n",
        "    print(\"Validation Accuracy: \", correct_val / total_val)"
      ],
      "execution_count": 10,
      "outputs": [
        {
          "output_type": "stream",
          "text": [
            "Epoch: 0, Loss: 1.680936\n",
            "Train Accuracy:  0.79785\n",
            "Validation Accuracy:  0.8084\n",
            "Epoch: 5, Loss: 1.559071\n",
            "Train Accuracy:  0.9262166666666667\n",
            "Validation Accuracy:  0.9277\n",
            "Epoch: 10, Loss: 1.529081\n",
            "Train Accuracy:  0.94355\n",
            "Validation Accuracy:  0.9396\n",
            "Epoch: 15, Loss: 1.516277\n",
            "Train Accuracy:  0.95385\n",
            "Validation Accuracy:  0.9483\n",
            "Epoch: 20, Loss: 1.479964\n",
            "Train Accuracy:  0.9609166666666666\n",
            "Validation Accuracy:  0.9525\n",
            "Epoch: 25, Loss: 1.490749\n",
            "Train Accuracy:  0.96615\n",
            "Validation Accuracy:  0.9581\n",
            "Epoch: 30, Loss: 1.519334\n",
            "Train Accuracy:  0.9714333333333334\n",
            "Validation Accuracy:  0.9633\n",
            "Epoch: 35, Loss: 1.474357\n",
            "Train Accuracy:  0.97555\n",
            "Validation Accuracy:  0.9659\n",
            "Epoch: 40, Loss: 1.472972\n",
            "Train Accuracy:  0.97865\n",
            "Validation Accuracy:  0.9683\n",
            "Epoch: 45, Loss: 1.499289\n",
            "Train Accuracy:  0.9812166666666666\n",
            "Validation Accuracy:  0.969\n",
            "Epoch: 50, Loss: 1.495492\n",
            "Train Accuracy:  0.9835\n",
            "Validation Accuracy:  0.9716\n",
            "Epoch: 55, Loss: 1.513082\n",
            "Train Accuracy:  0.98485\n",
            "Validation Accuracy:  0.9738\n",
            "Epoch: 60, Loss: 1.474217\n",
            "Train Accuracy:  0.9862166666666666\n",
            "Validation Accuracy:  0.9741\n",
            "Epoch: 65, Loss: 1.496029\n",
            "Train Accuracy:  0.9872333333333333\n",
            "Validation Accuracy:  0.9746\n",
            "Epoch: 70, Loss: 1.471040\n",
            "Train Accuracy:  0.9879666666666667\n",
            "Validation Accuracy:  0.9746\n",
            "Epoch: 75, Loss: 1.462224\n",
            "Train Accuracy:  0.9889666666666667\n",
            "Validation Accuracy:  0.9757\n",
            "Epoch: 80, Loss: 1.461742\n",
            "Train Accuracy:  0.9896666666666667\n",
            "Validation Accuracy:  0.9766\n",
            "Epoch: 85, Loss: 1.472404\n",
            "Train Accuracy:  0.9901166666666666\n",
            "Validation Accuracy:  0.9762\n",
            "Epoch: 90, Loss: 1.462960\n",
            "Train Accuracy:  0.9905666666666667\n",
            "Validation Accuracy:  0.9762\n",
            "Epoch: 95, Loss: 1.463278\n",
            "Train Accuracy:  0.9910833333333333\n",
            "Validation Accuracy:  0.9768\n",
            "Epoch: 100, Loss: 1.461505\n",
            "Train Accuracy:  0.9915333333333334\n",
            "Validation Accuracy:  0.978\n",
            "Epoch: 105, Loss: 1.461484\n",
            "Train Accuracy:  0.9918333333333333\n",
            "Validation Accuracy:  0.9776\n",
            "Epoch: 110, Loss: 1.462103\n",
            "Train Accuracy:  0.9921666666666666\n",
            "Validation Accuracy:  0.9771\n",
            "Epoch: 115, Loss: 1.462225\n",
            "Train Accuracy:  0.9923333333333333\n",
            "Validation Accuracy:  0.9777\n",
            "Epoch: 120, Loss: 1.461952\n",
            "Train Accuracy:  0.9924833333333334\n",
            "Validation Accuracy:  0.9777\n",
            "Epoch: 125, Loss: 1.461232\n",
            "Train Accuracy:  0.9927166666666667\n",
            "Validation Accuracy:  0.9784\n",
            "Epoch: 130, Loss: 1.472071\n",
            "Train Accuracy:  0.9929666666666667\n",
            "Validation Accuracy:  0.9783\n",
            "Epoch: 135, Loss: 1.471599\n",
            "Train Accuracy:  0.9932166666666666\n",
            "Validation Accuracy:  0.9778\n",
            "Epoch: 140, Loss: 1.502029\n",
            "Train Accuracy:  0.9935333333333334\n",
            "Validation Accuracy:  0.9786\n",
            "Epoch: 145, Loss: 1.461181\n",
            "Train Accuracy:  0.9938\n",
            "Validation Accuracy:  0.9775\n",
            "Epoch: 150, Loss: 1.482076\n",
            "Train Accuracy:  0.9939166666666667\n",
            "Validation Accuracy:  0.9788\n",
            "Epoch: 155, Loss: 1.461239\n",
            "Train Accuracy:  0.994\n",
            "Validation Accuracy:  0.9789\n",
            "Epoch: 160, Loss: 1.471588\n",
            "Train Accuracy:  0.99415\n",
            "Validation Accuracy:  0.9791\n",
            "Epoch: 165, Loss: 1.471248\n",
            "Train Accuracy:  0.99415\n",
            "Validation Accuracy:  0.9793\n",
            "Epoch: 170, Loss: 1.461253\n",
            "Train Accuracy:  0.9942333333333333\n",
            "Validation Accuracy:  0.9794\n",
            "Epoch: 175, Loss: 1.471245\n",
            "Train Accuracy:  0.9942833333333333\n",
            "Validation Accuracy:  0.9796\n",
            "Epoch: 180, Loss: 1.461177\n",
            "Train Accuracy:  0.9944333333333333\n",
            "Validation Accuracy:  0.9787\n",
            "Epoch: 185, Loss: 1.461174\n",
            "Train Accuracy:  0.9944666666666667\n",
            "Validation Accuracy:  0.9787\n",
            "Epoch: 190, Loss: 1.461188\n",
            "Train Accuracy:  0.9944833333333334\n",
            "Validation Accuracy:  0.9788\n",
            "Epoch: 195, Loss: 1.461239\n",
            "Train Accuracy:  0.9944166666666666\n",
            "Validation Accuracy:  0.9776\n",
            "Epoch: 200, Loss: 1.471593\n",
            "Train Accuracy:  0.9946333333333334\n",
            "Validation Accuracy:  0.9795\n",
            "Epoch: 205, Loss: 1.461154\n",
            "Train Accuracy:  0.9947833333333334\n",
            "Validation Accuracy:  0.9797\n",
            "Epoch: 210, Loss: 1.461160\n",
            "Train Accuracy:  0.99485\n",
            "Validation Accuracy:  0.9788\n",
            "Epoch: 215, Loss: 1.473129\n",
            "Train Accuracy:  0.9948666666666667\n",
            "Validation Accuracy:  0.9783\n",
            "Epoch: 220, Loss: 1.471573\n",
            "Train Accuracy:  0.9949166666666667\n",
            "Validation Accuracy:  0.9791\n",
            "Epoch: 225, Loss: 1.461170\n",
            "Train Accuracy:  0.9950166666666667\n",
            "Validation Accuracy:  0.9795\n",
            "Epoch: 230, Loss: 1.461157\n",
            "Train Accuracy:  0.9951166666666666\n",
            "Validation Accuracy:  0.9791\n",
            "Epoch: 235, Loss: 1.461166\n",
            "Train Accuracy:  0.9951166666666666\n",
            "Validation Accuracy:  0.9794\n",
            "Epoch: 240, Loss: 1.461163\n",
            "Train Accuracy:  0.9951333333333333\n",
            "Validation Accuracy:  0.9792\n",
            "Epoch: 245, Loss: 1.461155\n",
            "Train Accuracy:  0.9951666666666666\n",
            "Validation Accuracy:  0.9791\n"
          ],
          "name": "stdout"
        }
      ]
    },
    {
      "cell_type": "code",
      "metadata": {
        "colab": {
          "base_uri": "https://localhost:8080/",
          "height": 297
        },
        "id": "GOmvXbKWtUmD",
        "outputId": "58bf4c9c-280c-4db2-dd0f-65b1e1f30f5c"
      },
      "source": [
        "plt.plot(epochs, val_acc, label=\"val acc\", color=\"green\", linestyle='-.')\n",
        "plt.plot(epochs, train_acc, label=\"train acc\", color=\"red\",linestyle=':')\n",
        "plt.title(\"Model w/o Regulation\")\n",
        "plt.legend()\n",
        "plt.tight_layout()\n",
        "plt.savefig('unregularised.png',dpi=600)\n",
        "plt.show()\n",
        "torch.save(val_acc, 'val_acc.pt')\n",
        "torch.save(train_acc, 'train_acc.pt')"
      ],
      "execution_count": 11,
      "outputs": [
        {
          "output_type": "display_data",
          "data": {
            "image/png": "[encoded data removed]",
            "text/plain": [
              "<Figure size 432x288 with 1 Axes>"
            ]
          },
          "metadata": {
            "tags": [],
            "needs_background": "light"
          }
        }
      ]
    },
    {
      "cell_type": "markdown",
      "metadata": {
        "id": "ppyAFc1ae6cG"
      },
      "source": [
        "### Model w/ $l_2$ Regularisation:"
      ]
    },
    {
      "cell_type": "code",
      "metadata": {
        "id": "Q1_WiAzAkCFZ"
      },
      "source": [
        "lambd = torch.tensor(7e-3)"
      ],
      "execution_count": null,
      "outputs": []
    },
    {
      "cell_type": "code",
      "metadata": {
        "id": "ARZPZhElfUJx"
      },
      "source": [
        "L2_model= torch.nn.Sequential(\n",
        "    torch.nn.Linear(input_dim,500),\n",
        "    torch.nn.ReLU(),\n",
        "    torch.nn.Linear(500,500),\n",
        "    torch.nn.ReLU(),\n",
        "    torch.nn.Linear(500,output_dim),\n",
        "    torch.nn.Softmax(dim=1)\n",
        ")\n",
        "\n",
        "L2_model=L2_model.to(dev)\n",
        "\n",
        "L2_loss_func= torch.nn.CrossEntropyLoss()\n",
        "L2_optimizer = torch.optim.Adam(L2_model.parameters(), lr=learning_rate,weight_decay=lambd)"
      ],
      "execution_count": null,
      "outputs": []
    },
    {
      "cell_type": "markdown",
      "metadata": {
        "id": "dfWkQvEjftZX"
      },
      "source": [
        "Training Loop w/ $l_2$ Regularisation:"
      ]
    },
    {
      "cell_type": "code",
      "metadata": {
        "id": "RELnvTWNtW6T"
      },
      "source": [
        "val_acc1=[]\n",
        "train_acc1=[]\n",
        "epochs=[]"
      ],
      "execution_count": null,
      "outputs": []
    },
    {
      "cell_type": "code",
      "metadata": {
        "colab": {
          "base_uri": "https://localhost:8080/"
        },
        "id": "s0nMzyxrf4WE",
        "outputId": "ed0ab3d0-4ad0-46d9-88a3-47709cd0e111"
      },
      "source": [
        "for i in range(num_epochs):\n",
        "\n",
        "  for imgs, labels in train_loader:\n",
        "    if dev is not None:\n",
        "      imgs,labels=imgs.to(dev),labels.to(dev)\n",
        "    out= L2_model(imgs.view(imgs.shape[0],-1))\n",
        "    L2_loss=L2_loss_func(out,labels)\n",
        "\n",
        "    ## Why not do L2 regularisation manually? https://stackoverflow.com/questions/61215600/speed-of-l2-regularization-on-pytorch\n",
        "    #Calculating & Adding the regulatision term to the loss\n",
        "    #Reg_term = torch.tensor(0.).to(dev)\n",
        "    #for param in L2_model.parameters():\n",
        "    #  Reg_term += torch.norm(param)\n",
        "    #L2_loss += lambd * Reg_term\n",
        "\n",
        "    L2_optimizer.zero_grad()\n",
        "    L2_loss.backward()\n",
        "    L2_optimizer.step()\n",
        "  \n",
        "  correct_val = 0\n",
        "  total_val = 0\n",
        "  correct_train_acc=0\n",
        "  total_train_acc=0\n",
        "\n",
        "  with torch.no_grad():\n",
        "    for imgs, labels in val_loader:\n",
        "      if dev is not None:\n",
        "        imgs,labels=imgs.to(dev),labels.to(dev)\n",
        "      outputs = L2_model(imgs.view(val_batch_size, -1)) \n",
        "      _, predicted = torch.max(outputs, dim=1) \n",
        "      total_val += labels.shape[0]\n",
        "      correct_val += int((predicted == labels).sum())\n",
        "    val_acc1.append(correct_val/total_val)\n",
        "\n",
        "    for train_acc_imgs,train_acc_labels in train_acc_loader:\n",
        "      if dev is not None:\n",
        "        train_acc_imgs,train_acc_labels=train_acc_imgs.to(dev),train_acc_labels.to(dev)\n",
        "    train_acc_out= L2_model(train_acc_imgs.view(train_acc_imgs.shape[0],-1))\n",
        "    _, train_acc_predicted = torch.max(train_acc_out, dim=1)\n",
        "    total_train_acc += train_acc_labels.shape[0]\n",
        "    correct_train_acc += int((train_acc_predicted == train_acc_labels).sum())\n",
        "    train_acc1.append(correct_train_acc/total_train_acc)\n",
        "  epochs.append(i)\n",
        "\n",
        "  if i%5==0:\n",
        "    print(\"Epoch: %d, Loss: %f\" % (i, float(L2_loss)))\n",
        "    print(\"Train Accuracy: \", correct_train_acc / total_train_acc)\n",
        "    print(\"Validation Accuracy: \", correct_val / total_val)"
      ],
      "execution_count": null,
      "outputs": [
        {
          "output_type": "stream",
          "text": [
            "Epoch: 0, Loss: 1.909657\n",
            "Train Accuracy:  0.6370333333333333\n",
            "Validation Accuracy:  0.6463\n",
            "Epoch: 5, Loss: 1.610824\n",
            "Train Accuracy:  0.9121\n",
            "Validation Accuracy:  0.9147\n",
            "Epoch: 10, Loss: 1.569276\n",
            "Train Accuracy:  0.9257666666666666\n",
            "Validation Accuracy:  0.9262\n",
            "Epoch: 15, Loss: 1.569376\n",
            "Train Accuracy:  0.9337833333333333\n",
            "Validation Accuracy:  0.9345\n",
            "Epoch: 20, Loss: 1.576404\n",
            "Train Accuracy:  0.9379333333333333\n",
            "Validation Accuracy:  0.9397\n",
            "Epoch: 25, Loss: 1.580225\n",
            "Train Accuracy:  0.9425333333333333\n",
            "Validation Accuracy:  0.9423\n",
            "Epoch: 30, Loss: 1.574506\n",
            "Train Accuracy:  0.9453333333333334\n",
            "Validation Accuracy:  0.9432\n",
            "Epoch: 35, Loss: 1.577739\n",
            "Train Accuracy:  0.9470833333333334\n",
            "Validation Accuracy:  0.9457\n",
            "Epoch: 40, Loss: 1.560191\n",
            "Train Accuracy:  0.9489666666666666\n",
            "Validation Accuracy:  0.9478\n",
            "Epoch: 45, Loss: 1.557778\n",
            "Train Accuracy:  0.9495166666666667\n",
            "Validation Accuracy:  0.9481\n",
            "Epoch: 50, Loss: 1.545358\n",
            "Train Accuracy:  0.95105\n",
            "Validation Accuracy:  0.9484\n",
            "Epoch: 55, Loss: 1.564157\n",
            "Train Accuracy:  0.9515166666666667\n",
            "Validation Accuracy:  0.9494\n",
            "Epoch: 60, Loss: 1.509007\n",
            "Train Accuracy:  0.9515666666666667\n",
            "Validation Accuracy:  0.9495\n",
            "Epoch: 65, Loss: 1.512860\n",
            "Train Accuracy:  0.9518333333333333\n",
            "Validation Accuracy:  0.9499\n",
            "Epoch: 70, Loss: 1.546586\n",
            "Train Accuracy:  0.9526833333333333\n",
            "Validation Accuracy:  0.9506\n",
            "Epoch: 75, Loss: 1.535618\n",
            "Train Accuracy:  0.95275\n",
            "Validation Accuracy:  0.9507\n",
            "Epoch: 80, Loss: 1.544333\n",
            "Train Accuracy:  0.9534\n",
            "Validation Accuracy:  0.9515\n",
            "Epoch: 85, Loss: 1.568319\n",
            "Train Accuracy:  0.9527333333333333\n",
            "Validation Accuracy:  0.9509\n",
            "Epoch: 90, Loss: 1.560736\n",
            "Train Accuracy:  0.9538333333333333\n",
            "Validation Accuracy:  0.9532\n",
            "Epoch: 95, Loss: 1.526589\n",
            "Train Accuracy:  0.9534166666666667\n",
            "Validation Accuracy:  0.9511\n",
            "Epoch: 100, Loss: 1.561412\n",
            "Train Accuracy:  0.9538\n",
            "Validation Accuracy:  0.9512\n",
            "Epoch: 105, Loss: 1.533215\n",
            "Train Accuracy:  0.95395\n",
            "Validation Accuracy:  0.9527\n",
            "Epoch: 110, Loss: 1.527957\n",
            "Train Accuracy:  0.9546166666666667\n",
            "Validation Accuracy:  0.9523\n",
            "Epoch: 115, Loss: 1.538424\n",
            "Train Accuracy:  0.9546333333333333\n",
            "Validation Accuracy:  0.9528\n",
            "Epoch: 120, Loss: 1.539724\n",
            "Train Accuracy:  0.95415\n",
            "Validation Accuracy:  0.9527\n",
            "Epoch: 125, Loss: 1.504549\n",
            "Train Accuracy:  0.95435\n",
            "Validation Accuracy:  0.9522\n",
            "Epoch: 130, Loss: 1.529521\n",
            "Train Accuracy:  0.9548833333333333\n",
            "Validation Accuracy:  0.9534\n",
            "Epoch: 135, Loss: 1.531633\n",
            "Train Accuracy:  0.9550166666666666\n",
            "Validation Accuracy:  0.9533\n",
            "Epoch: 140, Loss: 1.550835\n",
            "Train Accuracy:  0.9548\n",
            "Validation Accuracy:  0.9532\n",
            "Epoch: 145, Loss: 1.575373\n",
            "Train Accuracy:  0.9543833333333334\n",
            "Validation Accuracy:  0.9527\n",
            "Epoch: 150, Loss: 1.534444\n",
            "Train Accuracy:  0.9545\n",
            "Validation Accuracy:  0.9538\n",
            "Epoch: 155, Loss: 1.511756\n",
            "Train Accuracy:  0.9553166666666667\n",
            "Validation Accuracy:  0.9542\n",
            "Epoch: 160, Loss: 1.526788\n",
            "Train Accuracy:  0.955\n",
            "Validation Accuracy:  0.954\n",
            "Epoch: 165, Loss: 1.507608\n",
            "Train Accuracy:  0.95475\n",
            "Validation Accuracy:  0.9529\n",
            "Epoch: 170, Loss: 1.513547\n",
            "Train Accuracy:  0.9552166666666667\n",
            "Validation Accuracy:  0.9537\n",
            "Epoch: 175, Loss: 1.532493\n",
            "Train Accuracy:  0.9548166666666666\n",
            "Validation Accuracy:  0.9531\n",
            "Epoch: 180, Loss: 1.538579\n",
            "Train Accuracy:  0.9543833333333334\n",
            "Validation Accuracy:  0.953\n",
            "Epoch: 185, Loss: 1.542613\n",
            "Train Accuracy:  0.9547666666666667\n",
            "Validation Accuracy:  0.9539\n",
            "Epoch: 190, Loss: 1.574549\n",
            "Train Accuracy:  0.9550833333333333\n",
            "Validation Accuracy:  0.9537\n",
            "Epoch: 195, Loss: 1.513755\n",
            "Train Accuracy:  0.9545833333333333\n",
            "Validation Accuracy:  0.9525\n",
            "Epoch: 200, Loss: 1.540375\n",
            "Train Accuracy:  0.9549166666666666\n",
            "Validation Accuracy:  0.9537\n",
            "Epoch: 205, Loss: 1.522100\n",
            "Train Accuracy:  0.9553166666666667\n",
            "Validation Accuracy:  0.9547\n",
            "Epoch: 210, Loss: 1.522977\n",
            "Train Accuracy:  0.9546833333333333\n",
            "Validation Accuracy:  0.9529\n",
            "Epoch: 215, Loss: 1.550999\n",
            "Train Accuracy:  0.9544\n",
            "Validation Accuracy:  0.9537\n",
            "Epoch: 220, Loss: 1.528986\n",
            "Train Accuracy:  0.9548833333333333\n",
            "Validation Accuracy:  0.9535\n",
            "Epoch: 225, Loss: 1.534150\n",
            "Train Accuracy:  0.95555\n",
            "Validation Accuracy:  0.9544\n",
            "Epoch: 230, Loss: 1.535489\n",
            "Train Accuracy:  0.9552333333333334\n",
            "Validation Accuracy:  0.9543\n",
            "Epoch: 235, Loss: 1.544160\n",
            "Train Accuracy:  0.95525\n",
            "Validation Accuracy:  0.9535\n",
            "Epoch: 240, Loss: 1.520426\n",
            "Train Accuracy:  0.95545\n",
            "Validation Accuracy:  0.9537\n",
            "Epoch: 245, Loss: 1.534950\n",
            "Train Accuracy:  0.9547666666666667\n",
            "Validation Accuracy:  0.9533\n"
          ],
          "name": "stdout"
        }
      ]
    },
    {
      "cell_type": "code",
      "metadata": {
        "colab": {
          "base_uri": "https://localhost:8080/",
          "height": 297
        },
        "id": "DLHddbeuuGor",
        "outputId": "bf45322f-dfe5-4051-d667-59a5015b20e1"
      },
      "source": [
        "plt.plot(epochs, val_acc1, label=\"val acc\", color=\"green\", linestyle='-.')\n",
        "plt.plot(epochs, train_acc1, label=\"train acc\", color=\"blue\",linestyle=':')\n",
        "plt.title(\"Model w/  l2  Regularisation\")\n",
        "plt.legend()\n",
        "plt.tight_layout()\n",
        "plt.savefig('l2.png',dpi=600)\n",
        "plt.show()\n",
        "torch.save(val_acc1, 'val_acc1.pt')\n",
        "torch.save(train_acc1, 'train_acc1.pt')"
      ],
      "execution_count": null,
      "outputs": [
        {
          "output_type": "display_data",
          "data": {
            "image/png": "[encoded data removed]",
            "text/plain": [
              "<Figure size 432x288 with 1 Axes>"
            ]
          },
          "metadata": {
            "tags": [],
            "needs_background": "light"
          }
        }
      ]
    },
    {
      "cell_type": "markdown",
      "metadata": {
        "id": "hsdhWcs1wxMe"
      },
      "source": [
        "### Model w/ Dropout:"
      ]
    },
    {
      "cell_type": "markdown",
      "metadata": {
        "id": "GNQd41eD1ghl"
      },
      "source": [
        "Dropout Rates:"
      ]
    },
    {
      "cell_type": "code",
      "metadata": {
        "id": "91IgH-aH1f8I"
      },
      "source": [
        "p1=torch.tensor(0.7)\n",
        "p2=torch.tensor(0.6)"
      ],
      "execution_count": null,
      "outputs": []
    },
    {
      "cell_type": "code",
      "metadata": {
        "id": "3j9tg3tb0Y9u"
      },
      "source": [
        "Dropout_model= torch.nn.Sequential(\n",
        "    torch.nn.Linear(input_dim,500),\n",
        "    torch.nn.Dropout(p1),\n",
        "    torch.nn.ReLU(),\n",
        "    torch.nn.Linear(500,500),\n",
        "    torch.nn.Dropout(p2),\n",
        "    torch.nn.ReLU(),\n",
        "    torch.nn.Linear(500,output_dim),\n",
        "    torch.nn.Softmax(dim=1)\n",
        ")\n",
        "\n",
        "Dropout_model=Dropout_model.to(dev)\n",
        "\n",
        "Dropout_loss_func= torch.nn.CrossEntropyLoss()\n",
        "Dropout_optimizer = torch.optim.Adam(Dropout_model.parameters(), lr=learning_rate)"
      ],
      "execution_count": null,
      "outputs": []
    },
    {
      "cell_type": "code",
      "metadata": {
        "id": "gyADnAtPtwN-"
      },
      "source": [
        "val_acc2=[]\n",
        "train_acc2=[]\n",
        "epochs=[]"
      ],
      "execution_count": null,
      "outputs": []
    },
    {
      "cell_type": "code",
      "metadata": {
        "id": "jeBFOiCU0Z3B",
        "colab": {
          "base_uri": "https://localhost:8080/"
        },
        "outputId": "9b859755-db86-458a-e607-a0bf8aae73b0"
      },
      "source": [
        "for i in range(num_epochs):\n",
        "\n",
        "  for imgs, labels in train_loader:\n",
        "    if dev is not None:\n",
        "      imgs,labels=imgs.to(dev),labels.to(dev)\n",
        "    out= Dropout_model(imgs.view(imgs.shape[0],-1))\n",
        "    Dropout_loss=Dropout_loss_func(out,labels)\n",
        "    Dropout_optimizer.zero_grad()\n",
        "    Dropout_loss.backward()\n",
        "    Dropout_optimizer.step()\n",
        "  \n",
        "  correct_val = 0\n",
        "  total_val = 0\n",
        "  correct_train_acc=0\n",
        "  total_train_acc=0\n",
        "\n",
        "  with torch.no_grad():\n",
        "    for imgs, labels in val_loader:\n",
        "      if dev is not None:\n",
        "        imgs,labels=imgs.to(dev),labels.to(dev)\n",
        "      outputs = Dropout_model(imgs.view(val_batch_size, -1)) \n",
        "      _, predicted = torch.max(outputs, dim=1) \n",
        "      total_val += labels.shape[0]\n",
        "      correct_val += int((predicted == labels).sum())\n",
        "    val_acc2.append(correct_val/total_val)\n",
        "\n",
        "    for train_acc_imgs,train_acc_labels in train_acc_loader:\n",
        "      if dev is not None:\n",
        "        train_acc_imgs,train_acc_labels=train_acc_imgs.to(dev),train_acc_labels.to(dev)\n",
        "    train_acc_out= Dropout_model(train_acc_imgs.view(train_acc_imgs.shape[0],-1))\n",
        "    _, train_acc_predicted = torch.max(train_acc_out, dim=1)\n",
        "    total_train_acc += train_acc_labels.shape[0]\n",
        "    correct_train_acc += int((train_acc_predicted == train_acc_labels).sum())\n",
        "    train_acc2.append(correct_train_acc/total_train_acc)\n",
        "  epochs.append(i)\n",
        "\n",
        "  if i%5==0:\n",
        "    print(\"Epoch: %d, Loss: %f\" % (i, float(Dropout_loss)))\n",
        "    print(\"Train Accuracy: \", correct_train_acc / total_train_acc)\n",
        "    print(\"Validation Accuracy: \", correct_val / total_val)"
      ],
      "execution_count": null,
      "outputs": [
        {
          "output_type": "stream",
          "text": [
            "Epoch: 0, Loss: 1.964780\n",
            "Train Accuracy:  0.5822666666666667\n",
            "Validation Accuracy:  0.5874\n",
            "Epoch: 5, Loss: 1.597776\n",
            "Train Accuracy:  0.8676666666666667\n",
            "Validation Accuracy:  0.8747\n",
            "Epoch: 10, Loss: 1.582152\n",
            "Train Accuracy:  0.8971\n",
            "Validation Accuracy:  0.9017\n",
            "Epoch: 15, Loss: 1.556439\n",
            "Train Accuracy:  0.9124\n",
            "Validation Accuracy:  0.9155\n",
            "Epoch: 20, Loss: 1.553873\n",
            "Train Accuracy:  0.9217333333333333\n",
            "Validation Accuracy:  0.9206\n",
            "Epoch: 25, Loss: 1.563485\n",
            "Train Accuracy:  0.92975\n",
            "Validation Accuracy:  0.9293\n",
            "Epoch: 30, Loss: 1.521187\n",
            "Train Accuracy:  0.9365833333333333\n",
            "Validation Accuracy:  0.9366\n",
            "Epoch: 35, Loss: 1.523583\n",
            "Train Accuracy:  0.9416833333333333\n",
            "Validation Accuracy:  0.9368\n",
            "Epoch: 40, Loss: 1.554159\n",
            "Train Accuracy:  0.94615\n",
            "Validation Accuracy:  0.9414\n",
            "Epoch: 45, Loss: 1.520381\n",
            "Train Accuracy:  0.94855\n",
            "Validation Accuracy:  0.9466\n",
            "Epoch: 50, Loss: 1.517556\n",
            "Train Accuracy:  0.9521833333333334\n",
            "Validation Accuracy:  0.9498\n",
            "Epoch: 55, Loss: 1.501342\n",
            "Train Accuracy:  0.9552\n",
            "Validation Accuracy:  0.9522\n",
            "Epoch: 60, Loss: 1.489107\n",
            "Train Accuracy:  0.9580166666666666\n",
            "Validation Accuracy:  0.9524\n",
            "Epoch: 65, Loss: 1.528077\n",
            "Train Accuracy:  0.9594666666666667\n",
            "Validation Accuracy:  0.9539\n",
            "Epoch: 70, Loss: 1.515862\n",
            "Train Accuracy:  0.96175\n",
            "Validation Accuracy:  0.9549\n",
            "Epoch: 75, Loss: 1.518230\n",
            "Train Accuracy:  0.9633\n",
            "Validation Accuracy:  0.9577\n",
            "Epoch: 80, Loss: 1.516501\n",
            "Train Accuracy:  0.9645333333333334\n",
            "Validation Accuracy:  0.9566\n",
            "Epoch: 85, Loss: 1.494897\n",
            "Train Accuracy:  0.9662666666666667\n",
            "Validation Accuracy:  0.9625\n",
            "Epoch: 90, Loss: 1.503654\n",
            "Train Accuracy:  0.9673833333333334\n",
            "Validation Accuracy:  0.961\n",
            "Epoch: 95, Loss: 1.488187\n",
            "Train Accuracy:  0.9691666666666666\n",
            "Validation Accuracy:  0.9617\n",
            "Epoch: 100, Loss: 1.498391\n",
            "Train Accuracy:  0.9697333333333333\n",
            "Validation Accuracy:  0.9615\n",
            "Epoch: 105, Loss: 1.513623\n",
            "Train Accuracy:  0.9704333333333334\n",
            "Validation Accuracy:  0.9637\n",
            "Epoch: 110, Loss: 1.479862\n",
            "Train Accuracy:  0.9720666666666666\n",
            "Validation Accuracy:  0.9642\n",
            "Epoch: 115, Loss: 1.501732\n",
            "Train Accuracy:  0.97255\n",
            "Validation Accuracy:  0.9637\n",
            "Epoch: 120, Loss: 1.486004\n",
            "Train Accuracy:  0.9727\n",
            "Validation Accuracy:  0.9646\n",
            "Epoch: 125, Loss: 1.476996\n",
            "Train Accuracy:  0.9734333333333334\n",
            "Validation Accuracy:  0.9652\n",
            "Epoch: 130, Loss: 1.492976\n",
            "Train Accuracy:  0.9749\n",
            "Validation Accuracy:  0.9653\n",
            "Epoch: 135, Loss: 1.483485\n",
            "Train Accuracy:  0.9750833333333333\n",
            "Validation Accuracy:  0.9659\n",
            "Epoch: 140, Loss: 1.471016\n",
            "Train Accuracy:  0.9757\n",
            "Validation Accuracy:  0.9678\n",
            "Epoch: 145, Loss: 1.475859\n",
            "Train Accuracy:  0.9763666666666667\n",
            "Validation Accuracy:  0.966\n",
            "Epoch: 150, Loss: 1.484228\n",
            "Train Accuracy:  0.9773\n",
            "Validation Accuracy:  0.9652\n",
            "Epoch: 155, Loss: 1.472248\n",
            "Train Accuracy:  0.97775\n",
            "Validation Accuracy:  0.9684\n",
            "Epoch: 160, Loss: 1.474579\n",
            "Train Accuracy:  0.9777\n",
            "Validation Accuracy:  0.968\n",
            "Epoch: 165, Loss: 1.475742\n",
            "Train Accuracy:  0.9778666666666667\n",
            "Validation Accuracy:  0.9675\n",
            "Epoch: 170, Loss: 1.491405\n",
            "Train Accuracy:  0.9788166666666667\n",
            "Validation Accuracy:  0.9689\n",
            "Epoch: 175, Loss: 1.462193\n",
            "Train Accuracy:  0.9789833333333333\n",
            "Validation Accuracy:  0.9678\n",
            "Epoch: 180, Loss: 1.479802\n",
            "Train Accuracy:  0.9799166666666667\n",
            "Validation Accuracy:  0.9676\n",
            "Epoch: 185, Loss: 1.469614\n",
            "Train Accuracy:  0.9801666666666666\n",
            "Validation Accuracy:  0.9687\n",
            "Epoch: 190, Loss: 1.471757\n",
            "Train Accuracy:  0.9807833333333333\n",
            "Validation Accuracy:  0.9699\n",
            "Epoch: 195, Loss: 1.485394\n",
            "Train Accuracy:  0.9812166666666666\n",
            "Validation Accuracy:  0.968\n",
            "Epoch: 200, Loss: 1.477449\n",
            "Train Accuracy:  0.9811666666666666\n",
            "Validation Accuracy:  0.9701\n",
            "Epoch: 205, Loss: 1.503782\n",
            "Train Accuracy:  0.9816\n",
            "Validation Accuracy:  0.9709\n",
            "Epoch: 210, Loss: 1.473227\n",
            "Train Accuracy:  0.9815\n",
            "Validation Accuracy:  0.969\n",
            "Epoch: 215, Loss: 1.482300\n",
            "Train Accuracy:  0.9828166666666667\n",
            "Validation Accuracy:  0.9704\n",
            "Epoch: 220, Loss: 1.481948\n",
            "Train Accuracy:  0.9827666666666667\n",
            "Validation Accuracy:  0.9706\n",
            "Epoch: 225, Loss: 1.492184\n",
            "Train Accuracy:  0.9830666666666666\n",
            "Validation Accuracy:  0.9694\n",
            "Epoch: 230, Loss: 1.465975\n",
            "Train Accuracy:  0.9830166666666666\n",
            "Validation Accuracy:  0.9716\n",
            "Epoch: 235, Loss: 1.509427\n",
            "Train Accuracy:  0.9834666666666667\n",
            "Validation Accuracy:  0.9713\n",
            "Epoch: 240, Loss: 1.472733\n",
            "Train Accuracy:  0.9833666666666666\n",
            "Validation Accuracy:  0.9717\n",
            "Epoch: 245, Loss: 1.468482\n",
            "Train Accuracy:  0.9840333333333333\n",
            "Validation Accuracy:  0.9715\n"
          ],
          "name": "stdout"
        }
      ]
    },
    {
      "cell_type": "code",
      "metadata": {
        "id": "1f4fn4qEuDaC",
        "colab": {
          "base_uri": "https://localhost:8080/",
          "height": 297
        },
        "outputId": "c1148179-113d-45c6-c2ac-718aa4bfa935"
      },
      "source": [
        "plt.plot(epochs, val_acc2, label=\"val acc\", color=\"green\", linestyle='-.')\n",
        "plt.plot(epochs, train_acc2, label=\"train acc\", color=\"red\",linestyle=':')\n",
        "plt.title(\"Model w/  l2  Dropout\")\n",
        "plt.legend()\n",
        "plt.tight_layout()\n",
        "plt.savefig('drop.png',dpi=600)\n",
        "plt.show()\n",
        "torch.save(val_acc2, 'val_acc2.pt')\n",
        "torch.save(train_acc2, 'train_acc2.pt')"
      ],
      "execution_count": null,
      "outputs": [
        {
          "output_type": "display_data",
          "data": {
            "image/png": "[encoded data removed]",
            "text/plain": [
              "<Figure size 432x288 with 1 Axes>"
            ]
          },
          "metadata": {
            "tags": [],
            "needs_background": "light"
          }
        }
      ]
    },
    {
      "cell_type": "markdown",
      "metadata": {
        "id": "oavdxMYZ3tU9"
      },
      "source": [
        "### Model w/ Early Stopping"
      ]
    },
    {
      "cell_type": "code",
      "metadata": {
        "id": "PlRNUKP9pmJl"
      },
      "source": [
        "ES_model= torch.nn.Sequential(\n",
        "    torch.nn.Linear(input_dim,500),\n",
        "    torch.nn.ReLU(),\n",
        "    torch.nn.Linear(500,500),\n",
        "    torch.nn.ReLU(),\n",
        "    torch.nn.Linear(500,output_dim),\n",
        "    torch.nn.Softmax(dim=1)\n",
        ")\n",
        "\n",
        "ES_model=ES_model.to(dev)\n",
        "\n",
        "ES_loss_func= torch.nn.CrossEntropyLoss()\n",
        "ES_optimizer = torch.optim.Adam(ES_model.parameters(), lr=learning_rate)"
      ],
      "execution_count": null,
      "outputs": []
    },
    {
      "cell_type": "markdown",
      "metadata": {
        "id": "1yhfZwGZpr66"
      },
      "source": [
        "Train Loop w/ Early Stoppping "
      ]
    },
    {
      "cell_type": "code",
      "metadata": {
        "id": "MPDd5SJhp1cd"
      },
      "source": [
        "val_acc3=[]\n",
        "train_acc3=[]\n",
        "max_val_acc=-1\n",
        "cont_epoch=0\n",
        "epochs=[]"
      ],
      "execution_count": null,
      "outputs": []
    },
    {
      "cell_type": "code",
      "metadata": {
        "id": "fOAOMXgOpq3Z",
        "colab": {
          "base_uri": "https://localhost:8080/"
        },
        "outputId": "59857d82-dd6c-43d8-be64-5bc520f3470f"
      },
      "source": [
        "for i in range(num_epochs):\n",
        "  for imgs, labels in train_loader:\n",
        "    if dev is not None:\n",
        "      imgs,labels=imgs.to(dev),labels.to(dev)\n",
        "    out= ES_model(imgs.view(imgs.shape[0],-1))\n",
        "    ES_loss=ES_loss_func(out,labels)\n",
        "    ES_optimizer.zero_grad()\n",
        "    ES_loss.backward()\n",
        "    ES_optimizer.step()\n",
        "  \n",
        "  correct_val = 0\n",
        "  total_val = 0\n",
        "  correct_train_acc=0\n",
        "  total_train_acc=0\n",
        "\n",
        "  with torch.no_grad():\n",
        "    for imgs, labels in val_loader:\n",
        "      if dev is not None:\n",
        "        imgs,labels=imgs.to(dev),labels.to(dev)\n",
        "      outputs = ES_model(imgs.view(val_batch_size, -1)) \n",
        "      _, predicted = torch.max(outputs, dim=1) \n",
        "      total_val += labels.shape[0]\n",
        "      correct_val += int((predicted == labels).sum())\n",
        "    #calc val acc\n",
        "    val_acc3.append(correct_val/total_val)\n",
        "    if val_acc3[i]>max_val_acc :\n",
        "      max_val_acc=val_acc3[i]\n",
        "\n",
        "    \n",
        "\n",
        "    for train_acc_imgs,train_acc_labels in train_acc_loader:\n",
        "      if dev is not None:\n",
        "        train_acc_imgs,train_acc_labels=train_acc_imgs.to(dev),train_acc_labels.to(dev)\n",
        "      train_acc_out=ES_model(train_acc_imgs.view(train_acc_imgs.shape[0],-1))\n",
        "      _, train_acc_predicted = torch.max(train_acc_out, dim=1)\n",
        "      total_train_acc += train_acc_labels.shape[0]\n",
        "      correct_train_acc += int((train_acc_predicted == train_acc_labels).sum())\n",
        "    #calc train acc\n",
        "    train_acc3.append(correct_train_acc/total_train_acc)\n",
        "    epochs.append(i)\n",
        "  \n",
        "  #Early Stopping\n",
        "  if val_acc3[i]<max_val_acc:\n",
        "    cont_epoch = cont_epoch+1\n",
        "  else :\n",
        "    cont_epoch =0\n",
        "  if cont_epoch > 3:\n",
        "    break\n",
        "\n",
        "  if i%5==0:\n",
        "    print(\"Epoch: %d, Loss: %f\" % (i, float(ES_loss)))\n",
        "    print(\"Train Accuracy: \", correct_train_acc / total_train_acc)\n",
        "    print(\"Validation Accuracy: \", correct_val / total_val)"
      ],
      "execution_count": null,
      "outputs": [
        {
          "output_type": "stream",
          "text": [
            "Epoch: 0, Loss: 1.601054\n",
            "Train Accuracy:  0.8949833333333334\n",
            "Validation Accuracy:  0.9009\n",
            "Epoch: 5, Loss: 1.543099\n",
            "Train Accuracy:  0.93145\n",
            "Validation Accuracy:  0.9317\n",
            "Epoch: 10, Loss: 1.490674\n",
            "Train Accuracy:  0.9475666666666667\n",
            "Validation Accuracy:  0.9433\n",
            "Epoch: 15, Loss: 1.506040\n",
            "Train Accuracy:  0.9574833333333334\n",
            "Validation Accuracy:  0.9509\n",
            "Epoch: 20, Loss: 1.485379\n",
            "Train Accuracy:  0.9641833333333333\n",
            "Validation Accuracy:  0.9562\n",
            "Epoch: 25, Loss: 1.483134\n",
            "Train Accuracy:  0.9692\n",
            "Validation Accuracy:  0.9605\n",
            "Epoch: 30, Loss: 1.477658\n",
            "Train Accuracy:  0.97375\n",
            "Validation Accuracy:  0.9642\n",
            "Epoch: 35, Loss: 1.479197\n",
            "Train Accuracy:  0.97775\n",
            "Validation Accuracy:  0.9664\n",
            "Epoch: 40, Loss: 1.467183\n",
            "Train Accuracy:  0.9806666666666667\n",
            "Validation Accuracy:  0.9684\n",
            "Epoch: 45, Loss: 1.478278\n",
            "Train Accuracy:  0.9830833333333333\n",
            "Validation Accuracy:  0.9713\n",
            "Epoch: 50, Loss: 1.472586\n",
            "Train Accuracy:  0.9840833333333333\n",
            "Validation Accuracy:  0.9724\n",
            "Epoch: 55, Loss: 1.503456\n",
            "Train Accuracy:  0.9859166666666667\n",
            "Validation Accuracy:  0.9733\n"
          ],
          "name": "stdout"
        }
      ]
    },
    {
      "cell_type": "code",
      "metadata": {
        "id": "oIizWwrfu8dK",
        "colab": {
          "base_uri": "https://localhost:8080/",
          "height": 297
        },
        "outputId": "20f4bf70-1f70-4dbd-e536-850abbf322e6"
      },
      "source": [
        "plt.plot(epochs, val_acc3, label=\"val acc\", color=\"green\", linestyle='-.')\n",
        "plt.plot(epochs, train_acc3, label=\"train acc\", color=\"red\",linestyle=':')\n",
        "plt.title(\"Model w/  Early Stopping\")\n",
        "plt.legend()\n",
        "plt.tight_layout()\n",
        "plt.savefig('early.png',dpi=600)\n",
        "plt.show()\n",
        "torch.save(val_acc3, 'val_acc3.pt')\n",
        "torch.save(train_acc3, 'train_acc3.pt')"
      ],
      "execution_count": null,
      "outputs": [
        {
          "output_type": "display_data",
          "data": {
            "image/png": "[encoded data removed]",
            "text/plain": [
              "<Figure size 432x288 with 1 Axes>"
            ]
          },
          "metadata": {
            "tags": [],
            "needs_background": "light"
          }
        }
      ]
    },
    {
      "cell_type": "code",
      "metadata": {
        "id": "EKCHW1NG0FUD"
      },
      "source": [
        ""
      ],
      "execution_count": null,
      "outputs": []
    }
  ]
}