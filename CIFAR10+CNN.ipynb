{
  "nbformat": 4,
  "nbformat_minor": 0,
  "metadata": {
    "colab": {
      "name": "ELL793Assgn2Ques2.ipynb",
      "provenance": [],
      "collapsed_sections": []
    },
    "kernelspec": {
      "name": "python3",
      "display_name": "Python 3"
    },
    "accelerator": "GPU"
  },
  "cells": [
    {
      "cell_type": "markdown",
      "metadata": {
        "id": "2s4_7n9L6uEl"
      },
      "source": [
        "# ELL793 Assignment 2\n",
        "**Problem 2: CIFAR-10 & CNNs** <br>\n",
        "Abhinava Sikdar 2017MT01724 <br>\n",
        "Yashank Singh 2017MT10756"
      ]
    },
    {
      "cell_type": "code",
      "metadata": {
        "id": "rwJNyfWr6MPE",
        "colab": {
          "base_uri": "https://localhost:8080/"
        },
        "outputId": "e02a89cc-767f-42d2-e4ed-6e450ecf9b07"
      },
      "source": [
        "import torch\n",
        "from torchvision import datasets\n",
        "from torchvision import transforms\n",
        "import matplotlib.pyplot as plt\n",
        "print('Is CUDA available', torch.cuda.is_available())\n",
        "print('Torch', torch.__version__, 'CUDA', torch.version.cuda)\n",
        "print('Device:', torch.device('cuda:0'))"
      ],
      "execution_count": 16,
      "outputs": [
        {
          "output_type": "stream",
          "text": [
            "Is CUDA available True\n",
            "Torch 1.7.0+cu101 CUDA 10.1\n",
            "Device: cuda:0\n"
          ],
          "name": "stdout"
        }
      ]
    },
    {
      "cell_type": "markdown",
      "metadata": {
        "id": "d-N1GMHa7Ri_"
      },
      "source": [
        "## Handling Data"
      ]
    },
    {
      "cell_type": "code",
      "metadata": {
        "id": "dEck1N5t7YFj",
        "colab": {
          "base_uri": "https://localhost:8080/"
        },
        "outputId": "272d7ba6-8220-4eba-b73b-a744ab69a443"
      },
      "source": [
        "data_path='../data/'\n",
        "cifar=datasets.CIFAR10(data_path, train= True, download=True, transform=transforms.ToTensor())\n",
        "cifar_val=datasets.CIFAR10(data_path, train=False, download= True, transform=transforms.ToTensor())"
      ],
      "execution_count": 17,
      "outputs": [
        {
          "output_type": "stream",
          "text": [
            "Files already downloaded and verified\n",
            "Files already downloaded and verified\n"
          ],
          "name": "stdout"
        }
      ]
    },
    {
      "cell_type": "code",
      "metadata": {
        "id": "HWlDTMR07mK9",
        "colab": {
          "base_uri": "https://localhost:8080/",
          "height": 248
        },
        "outputId": "e978d2c7-cb34-42b4-eea5-865e0d731935"
      },
      "source": [
        "img, label = cifar[28]\n",
        "plt.imshow(img.permute(1, 2, 0))\n",
        "plt.axis('off')\n",
        "plt.savefig(\"test.png\", bbox_inches='tight',dpi=400, pad_inches = 0)\n",
        "plt.show()"
      ],
      "execution_count": 65,
      "outputs": [
        {
          "output_type": "display_data",
          "data": {
            "image/png": "[encoded data removed]",
            "text/plain": [
              "<Figure size 432x288 with 1 Axes>"
            ]
          },
          "metadata": {
            "tags": [],
            "needs_background": "light"
          }
        }
      ]
    },
    {
      "cell_type": "code",
      "metadata": {
        "id": "zUGILBVB7nx9",
        "colab": {
          "base_uri": "https://localhost:8080/"
        },
        "outputId": "6f374fb7-e8b7-443b-f4e6-dc09f5d825ed"
      },
      "source": [
        "cifar_stack = torch.stack([img for img, _ in cifar], dim=3)\n",
        "print('Shape of the CIFAR stack is',cifar_stack.shape)\n",
        "mean= cifar_stack.view(3,-1).mean(dim=1)\n",
        "std= cifar_stack.view(3,-1).std(dim=1)\n",
        "print('Mean of training data is', mean)\n",
        "print('Standard deviation of training data is', std)"
      ],
      "execution_count": 19,
      "outputs": [
        {
          "output_type": "stream",
          "text": [
            "Shape of the CIFAR stack is torch.Size([3, 32, 32, 50000])\n",
            "Mean of training data is tensor([0.4914, 0.4822, 0.4465])\n",
            "Standard deviation of training data is tensor([0.2470, 0.2435, 0.2616])\n"
          ],
          "name": "stdout"
        }
      ]
    },
    {
      "cell_type": "code",
      "metadata": {
        "id": "8uHHj1ms7qy-"
      },
      "source": [
        "cifar_transformed = datasets.CIFAR10(data_path,train=True,download=False, transform=transforms.Compose([\n",
        "                                                                                                      transforms.ToTensor(),transforms.Normalize(mean,std)\n",
        "]))\n",
        "cifar_val_transformed = datasets.CIFAR10(data_path,train=False,download=False, transform=transforms.Compose([\n",
        "                                                                                                      transforms.ToTensor(),transforms.Normalize(mean,std)\n",
        "]))"
      ],
      "execution_count": 20,
      "outputs": []
    },
    {
      "cell_type": "code",
      "metadata": {
        "id": "TbrjQWIw_BA6",
        "colab": {
          "base_uri": "https://localhost:8080/",
          "height": 283
        },
        "outputId": "71d448b8-3268-4c89-af81-46aa480c16c7"
      },
      "source": [
        "img, label = cifar_transformed[28]\n",
        "plt.imshow(img.permute(1, 2, 0))\n",
        "plt.show()"
      ],
      "execution_count": 21,
      "outputs": [
        {
          "output_type": "stream",
          "text": [
            "Clipping input data to the valid range for imshow with RGB data ([0..1] for floats or [0..255] for integers).\n"
          ],
          "name": "stderr"
        },
        {
          "output_type": "display_data",
          "data": {
            "image/png": "[encoded data removed]",
            "text/plain": [
              "<Figure size 432x288 with 1 Axes>"
            ]
          },
          "metadata": {
            "tags": [],
            "needs_background": "light"
          }
        }
      ]
    },
    {
      "cell_type": "markdown",
      "metadata": {
        "id": "hoSSUfywQhZe"
      },
      "source": [
        "## The Convolutional Neural Net"
      ]
    },
    {
      "cell_type": "code",
      "metadata": {
        "id": "8QWcJMCOQfiL"
      },
      "source": [
        "import torch.nn as nn\n",
        "import torch.nn.functional as F"
      ],
      "execution_count": 22,
      "outputs": []
    },
    {
      "cell_type": "code",
      "metadata": {
        "id": "dk8IOyaeFTlk"
      },
      "source": [
        "batch_size=512\n",
        "val_batch_size=5000\n",
        "num_epochs=100\n",
        "learning_rate=2*1e-3\n",
        "\n",
        "dev=torch.device(\"cuda:0\" if torch.cuda.is_available() else \"cpu\")"
      ],
      "execution_count": 23,
      "outputs": []
    },
    {
      "cell_type": "code",
      "metadata": {
        "id": "KETNmPvwR7gi"
      },
      "source": [
        "train_loader=torch.utils.data.DataLoader(cifar_transformed,batch_size=batch_size,shuffle=True)\n",
        "train_acc_loader=torch.utils.data.DataLoader(cifar_transformed,batch_size=5000,shuffle=False)\n",
        "val_loader = torch.utils.data.DataLoader(cifar_val_transformed, batch_size=val_batch_size, shuffle=False)"
      ],
      "execution_count": 24,
      "outputs": []
    },
    {
      "cell_type": "code",
      "metadata": {
        "id": "OyOjDmwbQ9VX"
      },
      "source": [
        "class CNN(nn.Module):\n",
        "    def __init__(self):\n",
        "        super(CNN, self).__init__()\n",
        "\n",
        "        self.conv_layer = nn.Sequential(\n",
        "\n",
        "            # Block 1\n",
        "            nn.Conv2d(in_channels=3, out_channels=32, kernel_size=3, padding=1),\n",
        "            nn.BatchNorm2d(32),\n",
        "            nn.ReLU(),\n",
        "            nn.MaxPool2d(kernel_size=2, stride=2),\n",
        "\n",
        "            # Block 2\n",
        "            nn.Conv2d(in_channels=32, out_channels=64, kernel_size=3, padding=1),\n",
        "            nn.BatchNorm2d(64),\n",
        "            nn.ReLU(),\n",
        "            nn.MaxPool2d(kernel_size=2, stride=2),\n",
        "            nn.Dropout2d(p=0.07),\n",
        "\n",
        "            # Block 3\n",
        "            nn.Conv2d(in_channels=64, out_channels=128, kernel_size=3, padding=1),\n",
        "            nn.BatchNorm2d(128),\n",
        "            nn.ReLU(),\n",
        "            nn.MaxPool2d(kernel_size=2, stride=2),\n",
        "\n",
        "            # Block 4\n",
        "            nn.Conv2d(in_channels=128, out_channels=256, kernel_size=3, padding=1),\n",
        "            nn.BatchNorm2d(256),\n",
        "            nn.ReLU(),\n",
        "            nn.MaxPool2d(kernel_size=2, stride=2),\n",
        "        )\n",
        "\n",
        "        self.fc_layer = nn.Sequential(\n",
        "            nn.Dropout(p=0.3),\n",
        "            nn.Linear(1024, 512),\n",
        "            nn.ReLU(),\n",
        "            nn.Dropout(p=0.3),\n",
        "            nn.Linear(512, 256),\n",
        "            nn.ReLU(),\n",
        "            nn.Linear(256, 10)\n",
        "        )\n",
        "\n",
        "    def forward(self, x):\n",
        "        x = self.conv_layer(x)\n",
        "        x = x.view(x.size(0), -1)\n",
        "        #print(x.shape)\n",
        "        x = self.fc_layer(x)\n",
        "        return x\n",
        "\n",
        "cnn = CNN()\n",
        "cnn=cnn.to(dev)\n",
        "loss_func= torch.nn.CrossEntropyLoss()\n",
        "optimizer = torch.optim.Adam(cnn.parameters(), lr=learning_rate,weight_decay=3*10e-4)"
      ],
      "execution_count": 45,
      "outputs": []
    },
    {
      "cell_type": "code",
      "metadata": {
        "id": "5Zuj4oTiFxZv"
      },
      "source": [
        "max_validation = 0"
      ],
      "execution_count": 46,
      "outputs": []
    },
    {
      "cell_type": "code",
      "metadata": {
        "colab": {
          "base_uri": "https://localhost:8080/"
        },
        "id": "W78cculGFqye",
        "outputId": "a58c23cd-2586-4848-a059-03f3a9affc1f"
      },
      "source": [
        "for i in range(num_epochs):\n",
        "\n",
        "  for imgs, labels in train_loader:\n",
        "    if dev is not None:\n",
        "      imgs,labels=imgs.to(dev),labels.to(dev)\n",
        "    out= cnn(imgs)\n",
        "    loss=loss_func(out,labels)\n",
        "    optimizer.zero_grad()\n",
        "    loss.backward()\n",
        "    optimizer.step()\n",
        "  \n",
        "  correct_val = 0\n",
        "  total_val = 0\n",
        "  correct_train_acc=0\n",
        "  total_train_acc=0\n",
        "\n",
        "  with torch.no_grad():\n",
        "    for imgs, labels in val_loader:\n",
        "      if dev is not None:\n",
        "        imgs,labels=imgs.to(dev),labels.to(dev)\n",
        "      outputs = cnn(imgs) \n",
        "      _, predicted = torch.max(outputs, dim=1) \n",
        "      total_val += labels.shape[0]\n",
        "      correct_val += int((predicted == labels).sum())\n",
        "    \n",
        "\n",
        "    for train_acc_imgs,train_acc_labels in train_acc_loader:\n",
        "      if dev is not None:\n",
        "        train_acc_imgs,train_acc_labels=train_acc_imgs.to(dev),train_acc_labels.to(dev)\n",
        "      train_acc_out=cnn(train_acc_imgs)\n",
        "      _, train_acc_predicted = torch.max(train_acc_out, dim=1)\n",
        "      total_train_acc += train_acc_labels.shape[0]\n",
        "      correct_train_acc += int((train_acc_predicted == train_acc_labels).sum())\n",
        "    if correct_val/total_val > max_validation:\n",
        "      max_validation=correct_val/total_val\n",
        "\n",
        "  if i%1==0:\n",
        "    print(\"Epoch: %d, Loss: %f\" % (i, float(loss)))\n",
        "    print(\"Train Accuracy: \", correct_train_acc / total_train_acc)\n",
        "    print(\"Validation Accuracy: \", correct_val / total_val)\n",
        "\n",
        "print(max_validation)"
      ],
      "execution_count": 47,
      "outputs": [
        {
          "output_type": "stream",
          "text": [
            "Epoch: 0, Loss: 1.185913\n",
            "Train Accuracy:  0.5789\n",
            "Validation Accuracy:  0.5667\n",
            "Epoch: 1, Loss: 1.027045\n",
            "Train Accuracy:  0.64756\n",
            "Validation Accuracy:  0.6353\n",
            "Epoch: 2, Loss: 0.926604\n",
            "Train Accuracy:  0.69928\n",
            "Validation Accuracy:  0.6759\n",
            "Epoch: 3, Loss: 0.768937\n",
            "Train Accuracy:  0.74466\n",
            "Validation Accuracy:  0.7234\n",
            "Epoch: 4, Loss: 0.693096\n",
            "Train Accuracy:  0.77096\n",
            "Validation Accuracy:  0.7352\n",
            "Epoch: 5, Loss: 0.667083\n",
            "Train Accuracy:  0.78566\n",
            "Validation Accuracy:  0.7488\n",
            "Epoch: 6, Loss: 0.633060\n",
            "Train Accuracy:  0.8005\n",
            "Validation Accuracy:  0.7528\n",
            "Epoch: 7, Loss: 0.709817\n",
            "Train Accuracy:  0.81898\n",
            "Validation Accuracy:  0.7698\n",
            "Epoch: 8, Loss: 0.626590\n",
            "Train Accuracy:  0.82558\n",
            "Validation Accuracy:  0.7631\n",
            "Epoch: 9, Loss: 0.608540\n",
            "Train Accuracy:  0.832\n",
            "Validation Accuracy:  0.7757\n",
            "Epoch: 10, Loss: 0.565964\n",
            "Train Accuracy:  0.83844\n",
            "Validation Accuracy:  0.7767\n",
            "Epoch: 11, Loss: 0.574302\n",
            "Train Accuracy:  0.84482\n",
            "Validation Accuracy:  0.7812\n",
            "Epoch: 12, Loss: 0.688100\n",
            "Train Accuracy:  0.84824\n",
            "Validation Accuracy:  0.7764\n",
            "Epoch: 13, Loss: 0.550687\n",
            "Train Accuracy:  0.84946\n",
            "Validation Accuracy:  0.7785\n",
            "Epoch: 14, Loss: 0.492210\n",
            "Train Accuracy:  0.84604\n",
            "Validation Accuracy:  0.7787\n",
            "Epoch: 15, Loss: 0.499069\n",
            "Train Accuracy:  0.86168\n",
            "Validation Accuracy:  0.7836\n",
            "Epoch: 16, Loss: 0.558084\n",
            "Train Accuracy:  0.86694\n",
            "Validation Accuracy:  0.7835\n",
            "Epoch: 17, Loss: 0.467274\n",
            "Train Accuracy:  0.874\n",
            "Validation Accuracy:  0.7928\n",
            "Epoch: 18, Loss: 0.533122\n",
            "Train Accuracy:  0.85726\n",
            "Validation Accuracy:  0.7753\n",
            "Epoch: 19, Loss: 0.477078\n",
            "Train Accuracy:  0.866\n",
            "Validation Accuracy:  0.7833\n",
            "Epoch: 20, Loss: 0.482512\n",
            "Train Accuracy:  0.8726\n",
            "Validation Accuracy:  0.7924\n",
            "Epoch: 21, Loss: 0.445803\n",
            "Train Accuracy:  0.86312\n",
            "Validation Accuracy:  0.7772\n",
            "Epoch: 22, Loss: 0.440566\n",
            "Train Accuracy:  0.88296\n",
            "Validation Accuracy:  0.7927\n",
            "Epoch: 23, Loss: 0.578277\n",
            "Train Accuracy:  0.87636\n",
            "Validation Accuracy:  0.7887\n",
            "Epoch: 24, Loss: 0.486970\n",
            "Train Accuracy:  0.87712\n",
            "Validation Accuracy:  0.7929\n",
            "Epoch: 25, Loss: 0.466139\n",
            "Train Accuracy:  0.87228\n",
            "Validation Accuracy:  0.7799\n",
            "Epoch: 26, Loss: 0.420026\n",
            "Train Accuracy:  0.87394\n",
            "Validation Accuracy:  0.7825\n",
            "Epoch: 27, Loss: 0.311664\n",
            "Train Accuracy:  0.88098\n",
            "Validation Accuracy:  0.7889\n",
            "Epoch: 28, Loss: 0.447815\n",
            "Train Accuracy:  0.88598\n",
            "Validation Accuracy:  0.791\n",
            "Epoch: 29, Loss: 0.518057\n",
            "Train Accuracy:  0.89052\n",
            "Validation Accuracy:  0.7942\n",
            "Epoch: 30, Loss: 0.431600\n",
            "Train Accuracy:  0.88056\n",
            "Validation Accuracy:  0.7882\n",
            "Epoch: 31, Loss: 0.402811\n",
            "Train Accuracy:  0.88526\n",
            "Validation Accuracy:  0.7866\n",
            "Epoch: 32, Loss: 0.427771\n",
            "Train Accuracy:  0.89126\n",
            "Validation Accuracy:  0.7882\n",
            "Epoch: 33, Loss: 0.335478\n",
            "Train Accuracy:  0.88462\n",
            "Validation Accuracy:  0.7855\n",
            "Epoch: 34, Loss: 0.437778\n",
            "Train Accuracy:  0.88914\n",
            "Validation Accuracy:  0.7885\n",
            "Epoch: 35, Loss: 0.471508\n",
            "Train Accuracy:  0.8906\n",
            "Validation Accuracy:  0.7941\n",
            "Epoch: 36, Loss: 0.473641\n",
            "Train Accuracy:  0.883\n",
            "Validation Accuracy:  0.7879\n",
            "Epoch: 37, Loss: 0.398115\n",
            "Train Accuracy:  0.89186\n",
            "Validation Accuracy:  0.7931\n",
            "Epoch: 38, Loss: 0.464082\n",
            "Train Accuracy:  0.88952\n",
            "Validation Accuracy:  0.7825\n",
            "Epoch: 39, Loss: 0.329106\n",
            "Train Accuracy:  0.89488\n",
            "Validation Accuracy:  0.7982\n",
            "Epoch: 40, Loss: 0.415160\n",
            "Train Accuracy:  0.89792\n",
            "Validation Accuracy:  0.7946\n",
            "Epoch: 41, Loss: 0.438669\n",
            "Train Accuracy:  0.89466\n",
            "Validation Accuracy:  0.7933\n",
            "Epoch: 42, Loss: 0.389592\n",
            "Train Accuracy:  0.89832\n",
            "Validation Accuracy:  0.7924\n",
            "Epoch: 43, Loss: 0.453860\n",
            "Train Accuracy:  0.88704\n",
            "Validation Accuracy:  0.7896\n",
            "Epoch: 44, Loss: 0.393905\n",
            "Train Accuracy:  0.89346\n",
            "Validation Accuracy:  0.7924\n",
            "Epoch: 45, Loss: 0.405931\n",
            "Train Accuracy:  0.8814\n",
            "Validation Accuracy:  0.7836\n",
            "Epoch: 46, Loss: 0.348820\n",
            "Train Accuracy:  0.8894\n",
            "Validation Accuracy:  0.7897\n",
            "Epoch: 47, Loss: 0.383003\n",
            "Train Accuracy:  0.90106\n",
            "Validation Accuracy:  0.7917\n",
            "Epoch: 48, Loss: 0.433944\n",
            "Train Accuracy:  0.9041\n",
            "Validation Accuracy:  0.7947\n",
            "Epoch: 49, Loss: 0.384300\n",
            "Train Accuracy:  0.89044\n",
            "Validation Accuracy:  0.7855\n",
            "Epoch: 50, Loss: 0.379754\n",
            "Train Accuracy:  0.89574\n",
            "Validation Accuracy:  0.7908\n",
            "Epoch: 51, Loss: 0.361775\n",
            "Train Accuracy:  0.8931\n",
            "Validation Accuracy:  0.7965\n",
            "Epoch: 52, Loss: 0.512790\n",
            "Train Accuracy:  0.8926\n",
            "Validation Accuracy:  0.7844\n",
            "Epoch: 53, Loss: 0.380813\n",
            "Train Accuracy:  0.89292\n",
            "Validation Accuracy:  0.7842\n",
            "Epoch: 54, Loss: 0.291301\n",
            "Train Accuracy:  0.8992\n",
            "Validation Accuracy:  0.7924\n",
            "Epoch: 55, Loss: 0.365190\n",
            "Train Accuracy:  0.88988\n",
            "Validation Accuracy:  0.7884\n",
            "Epoch: 56, Loss: 0.357432\n",
            "Train Accuracy:  0.89024\n",
            "Validation Accuracy:  0.7835\n",
            "Epoch: 57, Loss: 0.402241\n",
            "Train Accuracy:  0.89498\n",
            "Validation Accuracy:  0.7938\n",
            "Epoch: 58, Loss: 0.424041\n",
            "Train Accuracy:  0.90132\n",
            "Validation Accuracy:  0.7957\n",
            "Epoch: 59, Loss: 0.420518\n",
            "Train Accuracy:  0.90424\n",
            "Validation Accuracy:  0.7934\n",
            "Epoch: 60, Loss: 0.366195\n",
            "Train Accuracy:  0.90242\n",
            "Validation Accuracy:  0.7928\n",
            "Epoch: 61, Loss: 0.368173\n",
            "Train Accuracy:  0.9064\n",
            "Validation Accuracy:  0.7913\n",
            "Epoch: 62, Loss: 0.341962\n",
            "Train Accuracy:  0.90466\n",
            "Validation Accuracy:  0.7882\n",
            "Epoch: 63, Loss: 0.320937\n",
            "Train Accuracy:  0.90646\n",
            "Validation Accuracy:  0.7919\n",
            "Epoch: 64, Loss: 0.378737\n",
            "Train Accuracy:  0.905\n",
            "Validation Accuracy:  0.7918\n",
            "Epoch: 65, Loss: 0.384927\n",
            "Train Accuracy:  0.90792\n",
            "Validation Accuracy:  0.798\n",
            "Epoch: 66, Loss: 0.390958\n",
            "Train Accuracy:  0.899\n",
            "Validation Accuracy:  0.7869\n",
            "Epoch: 67, Loss: 0.425043\n",
            "Train Accuracy:  0.889\n",
            "Validation Accuracy:  0.7793\n",
            "Epoch: 68, Loss: 0.393391\n",
            "Train Accuracy:  0.89562\n",
            "Validation Accuracy:  0.7887\n",
            "Epoch: 69, Loss: 0.428355\n",
            "Train Accuracy:  0.90634\n",
            "Validation Accuracy:  0.794\n",
            "Epoch: 70, Loss: 0.395691\n",
            "Train Accuracy:  0.90324\n",
            "Validation Accuracy:  0.7907\n",
            "Epoch: 71, Loss: 0.322131\n",
            "Train Accuracy:  0.91008\n",
            "Validation Accuracy:  0.799\n",
            "Epoch: 72, Loss: 0.375817\n",
            "Train Accuracy:  0.91326\n",
            "Validation Accuracy:  0.7972\n",
            "Epoch: 73, Loss: 0.419999\n",
            "Train Accuracy:  0.90776\n",
            "Validation Accuracy:  0.7908\n",
            "Epoch: 74, Loss: 0.425812\n",
            "Train Accuracy:  0.91016\n",
            "Validation Accuracy:  0.7991\n",
            "Epoch: 75, Loss: 0.467021\n",
            "Train Accuracy:  0.90524\n",
            "Validation Accuracy:  0.7922\n",
            "Epoch: 76, Loss: 0.398469\n",
            "Train Accuracy:  0.90622\n",
            "Validation Accuracy:  0.7964\n",
            "Epoch: 77, Loss: 0.435693\n",
            "Train Accuracy:  0.90312\n",
            "Validation Accuracy:  0.7927\n",
            "Epoch: 78, Loss: 0.497597\n",
            "Train Accuracy:  0.91044\n",
            "Validation Accuracy:  0.7983\n",
            "Epoch: 79, Loss: 0.388833\n",
            "Train Accuracy:  0.90882\n",
            "Validation Accuracy:  0.7975\n",
            "Epoch: 80, Loss: 0.230593\n",
            "Train Accuracy:  0.91394\n",
            "Validation Accuracy:  0.8002\n",
            "Epoch: 81, Loss: 0.368674\n",
            "Train Accuracy:  0.90834\n",
            "Validation Accuracy:  0.7978\n",
            "Epoch: 82, Loss: 0.391761\n",
            "Train Accuracy:  0.90982\n",
            "Validation Accuracy:  0.798\n",
            "Epoch: 83, Loss: 0.403891\n",
            "Train Accuracy:  0.89976\n",
            "Validation Accuracy:  0.7885\n",
            "Epoch: 84, Loss: 0.464492\n",
            "Train Accuracy:  0.90686\n",
            "Validation Accuracy:  0.791\n",
            "Epoch: 85, Loss: 0.316758\n",
            "Train Accuracy:  0.90078\n",
            "Validation Accuracy:  0.788\n",
            "Epoch: 86, Loss: 0.390475\n",
            "Train Accuracy:  0.90334\n",
            "Validation Accuracy:  0.7963\n",
            "Epoch: 87, Loss: 0.359909\n",
            "Train Accuracy:  0.90656\n",
            "Validation Accuracy:  0.7972\n",
            "Epoch: 88, Loss: 0.382251\n",
            "Train Accuracy:  0.90652\n",
            "Validation Accuracy:  0.7907\n",
            "Epoch: 89, Loss: 0.311610\n",
            "Train Accuracy:  0.91358\n",
            "Validation Accuracy:  0.7988\n",
            "Epoch: 90, Loss: 0.413110\n",
            "Train Accuracy:  0.90692\n",
            "Validation Accuracy:  0.7915\n",
            "Epoch: 91, Loss: 0.433324\n",
            "Train Accuracy:  0.9102\n",
            "Validation Accuracy:  0.8006\n",
            "Epoch: 92, Loss: 0.397120\n",
            "Train Accuracy:  0.9029\n",
            "Validation Accuracy:  0.7878\n",
            "Epoch: 93, Loss: 0.330534\n",
            "Train Accuracy:  0.90554\n",
            "Validation Accuracy:  0.7918\n",
            "Epoch: 94, Loss: 0.339213\n",
            "Train Accuracy:  0.90832\n",
            "Validation Accuracy:  0.7904\n",
            "Epoch: 95, Loss: 0.376174\n",
            "Train Accuracy:  0.91134\n",
            "Validation Accuracy:  0.7962\n",
            "Epoch: 96, Loss: 0.366542\n",
            "Train Accuracy:  0.91538\n",
            "Validation Accuracy:  0.7958\n",
            "Epoch: 97, Loss: 0.385010\n",
            "Train Accuracy:  0.90456\n",
            "Validation Accuracy:  0.7885\n",
            "Epoch: 98, Loss: 0.294081\n",
            "Train Accuracy:  0.90852\n",
            "Validation Accuracy:  0.7933\n",
            "Epoch: 99, Loss: 0.357054\n",
            "Train Accuracy:  0.90826\n",
            "Validation Accuracy:  0.7918\n",
            "0.8006\n"
          ],
          "name": "stdout"
        }
      ]
    },
    {
      "cell_type": "code",
      "metadata": {
        "colab": {
          "base_uri": "https://localhost:8080/"
        },
        "id": "6UY_GlkuaOaG",
        "outputId": "4437feb1-9e16-4f77-917a-46a58d44f9fc"
      },
      "source": [
        "print('The best accuracy achieved through early stopping would be', max_validation)"
      ],
      "execution_count": 50,
      "outputs": [
        {
          "output_type": "stream",
          "text": [
            "The best accuracy achieved through early stopping would be 0.8006\n"
          ],
          "name": "stdout"
        }
      ]
    }
  ]
}